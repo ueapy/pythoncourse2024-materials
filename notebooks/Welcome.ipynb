{
 "cells": [
  {
   "cell_type": "markdown",
   "metadata": {},
   "source": [
    "# Welcome to the 2023   Python Course! \n",
    "\n",
    "## ARIES and Cefas\n",
    "\n",
    "[Course website](https://ueapy.github.io/pythoncourse2023-website/programme/)\n",
    "\n",
    "[Course material on github](https://github.com/ueapy/pythoncourse2023-materials)"
   ]
  },
  {
   "cell_type": "markdown",
   "metadata": {},
   "source": [
    "## ARIES\n",
    "\n",
    "<https://www.aries-dtp.ac.uk/>\n",
    "\n",
    "## Cefas\n",
    "\n",
    "<https://www.cefas.co.uk/>\n",
    "\n",
    "\n",
    "## Your teachers for this course:\n",
    "                \n",
    "    Alice Hsu - UEA-ENV\n",
    "    Claire Beraud - Cefas\n",
    "    Eliza Karlowska - UEA-ENV\n",
    "    Jenny Graham - Cefas\n",
    "    Rob McEwan - Cefas\n",
    "    Tiago Silva - Cefas\n"
   ]
  },
  {
   "cell_type": "markdown",
   "metadata": {},
   "source": [
    "[//]: # (### WiFi: * eduroam - for uea accounts * The_Cloud - sign up for a free Sky account) \n",
    "\n"
   ]
  },
  {
   "cell_type": "code",
   "execution_count": null,
   "metadata": {},
   "outputs": [],
   "source": []
  }
 ],
 "metadata": {
  "kernelspec": {
   "display_name": "Python 3 (ipykernel)",
   "language": "python",
   "name": "python3"
  },
  "language_info": {
   "codemirror_mode": {
    "name": "ipython",
    "version": 3
   },
   "file_extension": ".py",
   "mimetype": "text/x-python",
   "name": "python",
   "nbconvert_exporter": "python",
   "pygments_lexer": "ipython3",
   "version": "3.8.13"
  }
 },
 "nbformat": 4,
 "nbformat_minor": 4
}
