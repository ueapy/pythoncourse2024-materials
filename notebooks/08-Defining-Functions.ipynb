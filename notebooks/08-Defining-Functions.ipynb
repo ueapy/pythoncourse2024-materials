{
 "cells": [
  {
   "cell_type": "markdown",
   "metadata": {
    "slideshow": {
     "slide_type": "slide"
    }
   },
   "source": [
    "# Defining and Using Functions"
   ]
  },
  {
   "cell_type": "markdown",
   "metadata": {},
   "source": [
    "How to make sections of code reusable and more logical? Create **functions**!\n",
    "\n",
    "* When you find yourself copying and pasting code in the same program, it is time to create a function.\n",
    "* Also, it is much easier to read code that makes use of functions. Consider this example:\n",
    "\n",
    "```\n",
    "\n",
    "data = read_files(filename)\n",
    "\n",
    "dataf = filter_data(data)\n",
    "\n",
    "make_plots(dataf)\n",
    "\n",
    "````\n",
    "\n",
    "How many user defined functions does this program make use of?"
   ]
  },
  {
   "cell_type": "markdown",
   "metadata": {
    "slideshow": {
     "slide_type": "fragment"
    }
   },
   "source": [
    "_____\n",
    "There are two ways of creating functions:\n",
    "* the ``def`` statement\n",
    "* the ``lambda`` statement, useful for creating one line functions."
   ]
  },
  {
   "cell_type": "markdown",
   "metadata": {
    "slideshow": {
     "slide_type": "slide"
    }
   },
   "source": [
    "## Simple example\n",
    "\n",
    "We are going to start with a simple function that just prints out a message."
   ]
  },
  {
   "cell_type": "code",
   "execution_count": null,
   "metadata": {
    "slideshow": {
     "slide_type": "fragment"
    }
   },
   "outputs": [],
   "source": [
    "# define your first ever function\n",
    "def my_pet(your_favourite_animal):\n",
    "    print(your_favourite_animal + \" is the best!\")\n",
    "    print(\"Congratulations, you have used your first python function!\")\n",
    "    "
   ]
  },
  {
   "cell_type": "markdown",
   "metadata": {},
   "source": [
    "Put the name of an animal into the brackets. Hint: be sure to make it a string! "
   ]
  },
  {
   "cell_type": "code",
   "execution_count": null,
   "metadata": {
    "slideshow": {
     "slide_type": "fragment"
    }
   },
   "outputs": [],
   "source": [
    "my_pet('Mr Toad')"
   ]
  },
  {
   "cell_type": "markdown",
   "metadata": {},
   "source": [
    "**Note:** printing data out does not *return* it to you as output. To get output from a function, you have to use `return` statement:"
   ]
  },
  {
   "cell_type": "code",
   "execution_count": null,
   "metadata": {
    "slideshow": {
     "slide_type": "subslide"
    }
   },
   "outputs": [],
   "source": [
    "def square_fun(x):\n",
    "    return x**2"
   ]
  },
  {
   "cell_type": "code",
   "execution_count": null,
   "metadata": {},
   "outputs": [],
   "source": [
    "result = square_fun(4)"
   ]
  },
  {
   "cell_type": "code",
   "execution_count": null,
   "metadata": {},
   "outputs": [],
   "source": [
    "result"
   ]
  },
  {
   "cell_type": "markdown",
   "metadata": {},
   "source": [
    "In python functions are very flexible and can:\n",
    "* receive multiple arguments, or none at all\n",
    "```\n",
    "funct(arg1, args2, arg3)\n",
    "funct()\n",
    "```\n",
    "* do a action but not return any variables\n",
    "```\n",
    "deletefiles(path)\n",
    "```\n",
    "* return multiple variables\n",
    "```\n",
    "mean, stddev = calc_stats(data)\n",
    "```"
   ]
  },
  {
   "cell_type": "markdown",
   "metadata": {
    "slideshow": {
     "slide_type": "slide"
    }
   },
   "source": [
    "## Another example"
   ]
  },
  {
   "cell_type": "markdown",
   "metadata": {},
   "source": [
    "Now for something a little more complex. Here we combine a function with a loop, and save the data. \n",
    "\n",
    "\n",
    "<img src=\"../figures/fibonacci_spiral.png\" alt=\"Fibonacci spiral\" style=\"width: 400px;\"/>\n",
    "\n",
    "The Finbonacci sequence [reproduces patterns often seen in nature](https://www.sciencefriday.com/educational-resources/fibonacci-sequence-handy-mathematical-approach-looking-evolution/ \"Fibonacci spiral\"). The sequence starts with zero and one, and steadily increases with each number being equal to the sum of the preceding two numbers: 0,1, 1, 2, 3, 5, 8, 13, 21, 34, 55,..."
   ]
  },
  {
   "cell_type": "code",
   "execution_count": null,
   "metadata": {},
   "outputs": [],
   "source": [
    "# 'def' allows us to define a function and call it 'fibonacci'\n",
    "# 'N' allows us to pass an argument (value/statement) into the function, \n",
    "# in this case, 'N' will be a number of our choice. \n",
    "\n",
    "def fibonacci(n):\n",
    "    \"\"\"\n",
    "    Calculates Fibonacci sequence up to order n\n",
    "    \"\"\"\n",
    "    fseq = []               # 1\n",
    "    a, b = 0, 1             # 2\n",
    "    while len(fseq) < n:    # 3\n",
    "        newa = b            # 4\n",
    "        b = a + b\n",
    "        a = newa\n",
    "        \n",
    "        # alternatively this could be used:\n",
    "        #a, b = b, a + b\n",
    "        \n",
    "        fseq.append(a)      # 5\n",
    "\n",
    "    return fseq             # 6\n",
    "\n",
    "# 1    'fseq' creates an empty list, so that we can put data into it and save. \n",
    "# 2    Here we are just defining variables 'a, b' to the starting numbers '0, 1'\n",
    "# 3    Now we start a continous loop 'while' and it continues indefinitely until \n",
    "#      the length(fseq) is > 'n' before stopping\n",
    "# 4    Do some maths and save over the values 'a, b' This allows us to save the \n",
    "#      value of 'a' into the empty dataset 'fseq'.\n",
    "# 5    We append the data so that it does not overwrite previous values. \n",
    "# 6    Return 'fseq' "
   ]
  },
  {
   "cell_type": "markdown",
   "metadata": {
    "slideshow": {
     "slide_type": "subslide"
    }
   },
   "source": [
    "Now we have a function named ``fibonacci`` which takes a single argument ``n``, does something with this argument, and ``return``s a value; in this case, a list of the first ``n`` Fibonacci numbers:"
   ]
  },
  {
   "cell_type": "code",
   "execution_count": null,
   "metadata": {
    "scrolled": true
   },
   "outputs": [],
   "source": [
    "fibonacci(10)\n",
    "# Now we can call the function by typing the name, and putting a value of our choice into the function using brackets. "
   ]
  },
  {
   "cell_type": "markdown",
   "metadata": {},
   "source": [
    "* Notice that there is no type information associated with the function inputs or outputs\n"
   ]
  },
  {
   "cell_type": "markdown",
   "metadata": {},
   "source": [
    "* Python functions can return any Python object, simple or compound\n",
    "    \n",
    "* The following modification would make the function return the value of a and b at sequence n. You can test it with the following function call:\n",
    "\n",
    "```\n",
    "    return a,b\n",
    "\n",
    "n_minus_1, n = fibonacci(10)\n",
    "print( 'n_minus_1=', n_minus_1, 'n=', n)\n",
    "```"
   ]
  },
  {
   "cell_type": "markdown",
   "metadata": {},
   "source": [
    "## Adding More Arguments\n",
    "\n",
    "Consider the ``fibonacci`` function from before.\n",
    "What if we would like the user to be able to play with the starting values?\n",
    "We could do that as follows:"
   ]
  },
  {
   "cell_type": "code",
   "execution_count": null,
   "metadata": {
    "slideshow": {
     "slide_type": "-"
    },
    "tags": []
   },
   "outputs": [],
   "source": [
    "#fibonacci(10, 1, 2)\n"
   ]
  },
  {
   "cell_type": "markdown",
   "metadata": {},
   "source": [
    "This doesn't work? Why?\n",
    "\n",
    "Well, we have not told the function that 'a, b' should be the values '1, 2'. Time to redesign the function a bit! "
   ]
  },
  {
   "cell_type": "code",
   "execution_count": null,
   "metadata": {},
   "outputs": [],
   "source": [
    "def fibonacci(n, a, b):\n",
    "    \"\"\"\n",
    "    Calculates Fibonacci sequence for n \n",
    "    interations, starting from \n",
    "    initial values of a and b\n",
    "    \"\"\"\n",
    "    fseq = []\n",
    "    while len(fseq) < n:\n",
    "        a, b = b, a + b\n",
    "        fseq.append(a)\n",
    "\n",
    "    return fseq"
   ]
  },
  {
   "cell_type": "code",
   "execution_count": null,
   "metadata": {},
   "outputs": [],
   "source": [
    "fibonacci(3,8,13)"
   ]
  },
  {
   "cell_type": "markdown",
   "metadata": {},
   "source": [
    "### Naming the arguments\n",
    "\n",
    "You can name the arguments in the function call, in which case the order won't matter."
   ]
  },
  {
   "cell_type": "code",
   "execution_count": null,
   "metadata": {},
   "outputs": [],
   "source": [
    "fibonacci(a=8, b=13, n=3)"
   ]
  },
  {
   "cell_type": "markdown",
   "metadata": {},
   "source": [
    "It is often prefereable to name the arguments to:\n",
    "* make the code easier to read\n",
    "* avoid mistakes"
   ]
  },
  {
   "cell_type": "markdown",
   "metadata": {
    "slideshow": {
     "slide_type": "slide"
    }
   },
   "source": [
    "## Default Argument Values\n",
    "\n",
    "Often when defining a function, there are certain values that we want the function to use *most* of the time, but we'd also like to give the user some flexibility.\n",
    "In this case, we can use *default values* for arguments.\n"
   ]
  },
  {
   "cell_type": "code",
   "execution_count": null,
   "metadata": {},
   "outputs": [],
   "source": [
    "def fibonacci(n, a=0, b=1):\n",
    "    \"\"\"Calculate Fibonacci sequence\"\"\"\n",
    "    fseq = []                  # 1\n",
    "    while len(fseq) < n:       # 3\n",
    "        a, b = b, a + b        # 4\n",
    "        fseq.append(a)         # 5\n",
    "\n",
    "    return fseq                # 6"
   ]
  },
  {
   "cell_type": "code",
   "execution_count": null,
   "metadata": {},
   "outputs": [],
   "source": [
    "fibonacci(b=34, a=21, n=6)"
   ]
  },
  {
   "cell_type": "code",
   "execution_count": null,
   "metadata": {},
   "outputs": [],
   "source": [
    "fibonacci(14)"
   ]
  },
  {
   "cell_type": "markdown",
   "metadata": {
    "slideshow": {
     "slide_type": "slide"
    }
   },
   "source": [
    "### Exercise 1\n",
    "\n",
    "Create a function to print \"bla \" n times"
   ]
  },
  {
   "cell_type": "code",
   "execution_count": null,
   "metadata": {},
   "outputs": [],
   "source": [
    "#def repeatbla(n):\n",
    "    \n",
    "    #for \n",
    "\n",
    "# test function\n",
    "#repeatbla(3)"
   ]
  },
  {
   "cell_type": "markdown",
   "metadata": {},
   "source": [
    "## Exercise 2\n",
    "\n",
    "Create a function to print a given sequence n times"
   ]
  },
  {
   "cell_type": "code",
   "execution_count": null,
   "metadata": {},
   "outputs": [],
   "source": [
    "#def repeattext(n):\n",
    "    \n",
    "    #for \n",
    "\n",
    "# test function\n",
    "#repeattext(3)"
   ]
  },
  {
   "cell_type": "markdown",
   "metadata": {},
   "source": [
    "## Exercise 3 - or where everything comes together\n",
    "\n",
    "Now let's calculate the equivalent carbon emissions calculator from flights. Below is a function to do that, and from its *docstring* you can understand what data should be put in, and what comes out. See, how useful docstrings are? Always write them in your code!\n",
    "\n",
    "You will probably want to use if/elif/else clauses.\n"
   ]
  },
  {
   "cell_type": "code",
   "execution_count": null,
   "metadata": {},
   "outputs": [],
   "source": [
    "def calc_co2e(dist,\n",
    "              returnf=False,\n",
    "              firstclass=False,\n",
    "              radforc=2.0,\n",
    "              ):\n",
    "    \"\"\"\n",
    "    calculate equivalent carbon emissions from flights\n",
    "    \n",
    "    Parameters\n",
    "    ==========\n",
    "    dist - flight distance in km\n",
    "    \n",
    "    Optional inputs\n",
    "    ---------------\n",
    "    returnf - Return flight (default=False)\n",
    "    firstclass - First class flight (default=False)\n",
    "    radforc - radiative forcing factor (default=2.0)\n",
    "    \n",
    "    Returns\n",
    "    =======\n",
    "    CO2 equivalent emissions in kg calculated as\n",
    "    co2e = dist * emission factor\n",
    "\n",
    "    Emission factors (kg CO2e/pkm)\n",
    "    https://flygrn.com/blog/carbon-emission-factors-used-by-flygrn\n",
    "    \n",
    "    0.26744  < 700 km \n",
    "    0.15845  700 – 2500\n",
    "    0.15119  > 2500 km \n",
    "    \n",
    "    First Class and return flighs both double the carbon emissions.\n",
    "    \"\"\"\n",
    "\n",
    "    return co2e"
   ]
  },
  {
   "cell_type": "markdown",
   "metadata": {},
   "source": [
    "Can you calculate $co_2equiv$ for a London-Sevilla return flight of 1600 km? "
   ]
  },
  {
   "cell_type": "code",
   "execution_count": null,
   "metadata": {},
   "outputs": [],
   "source": [
    "# Your code here\n",
    "# help(calc_co2e)\n"
   ]
  },
  {
   "cell_type": "markdown",
   "metadata": {
    "slideshow": {
     "slide_type": "slide"
    }
   },
   "source": [
    "## ``*args`` and ``**kwargs``: for flexible number of arguments\n",
    "How about a function which you don't initially know how many arguments there are? \n",
    "We can use the special form ``*args`` (arguments) and ``**kwargs`` (keyword arguments) to unpack a sequence of arguments that are passed.\n",
    "\n",
    "Here is an example:"
   ]
  },
  {
   "cell_type": "code",
   "execution_count": null,
   "metadata": {},
   "outputs": [],
   "source": [
    "def catch_all(*args, **kwargs):\n",
    "    print(\"args =\", args)\n",
    "    print(\"kwargs = \", kwargs)"
   ]
  },
  {
   "cell_type": "code",
   "execution_count": null,
   "metadata": {},
   "outputs": [],
   "source": [
    "catch_all('a', keyword=2)"
   ]
  },
  {
   "cell_type": "markdown",
   "metadata": {},
   "source": [
    "Now let's add more arguments and key word arguments to see it still works."
   ]
  },
  {
   "cell_type": "code",
   "execution_count": null,
   "metadata": {},
   "outputs": [],
   "source": [
    "catch_all(1, 2, 3, python=4, conda=5)"
   ]
  },
  {
   "cell_type": "markdown",
   "metadata": {},
   "source": [
    "Mum look, no arguments!"
   ]
  },
  {
   "cell_type": "code",
   "execution_count": null,
   "metadata": {},
   "outputs": [],
   "source": [
    "catch_all()"
   ]
  },
  {
   "cell_type": "markdown",
   "metadata": {
    "slideshow": {
     "slide_type": "subslide"
    }
   },
   "source": [
    "Here it is not the names ``args`` and ``kwargs`` that are important, but the ``*`` characters preceding them.\n",
    "``args`` and ``kwargs`` are just the variable names often used by convention, short for \"arguments\" and \"keyword arguments\".\n",
    "The operative difference is the asterisk characters: a single ``*`` before a variable means \"unpack this sequence\", while a double ``**`` before a variable means \"unpack this dictionary\".\n",
    "\n",
    "As we will see when using the plotting library matplotlib, one use of this feature is to pass a complex list of arguments using only a variable for regular arguments and a one for keyword arguments."
   ]
  },
  {
   "cell_type": "code",
   "execution_count": null,
   "metadata": {},
   "outputs": [],
   "source": [
    "myinputs = (1, 2, 3)\n",
    "mykeywords = {'scale': 2.5, 'pretty': True}\n",
    "\n",
    "catch_all(*myinputs, **mykeywords)\n"
   ]
  },
  {
   "cell_type": "markdown",
   "metadata": {
    "slideshow": {
     "slide_type": "slide"
    }
   },
   "source": [
    "## Bonus Material: Anonymous (``lambda``) Functions\n",
    "\n",
    "``\"lambda\" [parameter_list]: expression``\n",
    "\n",
    "Earlier we covered the most common way of defining functions, the ``def`` statement.\n",
    "There is another way of defining a short, one-off function with the ``lambda`` statement.\n",
    "It looks something like this:"
   ]
  },
  {
   "cell_type": "code",
   "execution_count": null,
   "metadata": {},
   "outputs": [],
   "source": [
    "add = lambda x, y: x + y\n",
    "add(1, 2)"
   ]
  },
  {
   "cell_type": "markdown",
   "metadata": {},
   "source": [
    "This lambda function is equivalent to"
   ]
  },
  {
   "cell_type": "code",
   "execution_count": null,
   "metadata": {},
   "outputs": [],
   "source": [
    "def add(x, y):\n",
    "    return x + y"
   ]
  },
  {
   "cell_type": "markdown",
   "metadata": {},
   "source": [
    "So why would you want to use lambda functions?\n",
    "Primarily, it comes down to the fact that *everything is an object* in Python, even functions themselves!\n",
    "That means that functions can be passed as arguments to functions.\n",
    "\n",
    "As an example of this, suppose we have some data stored in a list of dictionaries:"
   ]
  },
  {
   "cell_type": "code",
   "execution_count": null,
   "metadata": {},
   "outputs": [],
   "source": [
    "data = [{'first':'Guido', 'last':'Van Rossum', 'YOB':1956},\n",
    "        {'first':'Grace', 'last':'Hopper',     'YOB':1906},\n",
    "        {'first':'Alan',  'last':'Turing',     'YOB':1912}]"
   ]
  },
  {
   "cell_type": "markdown",
   "metadata": {},
   "source": [
    "Now suppose we want to sort this data.\n",
    "Python has a ``sorted`` function that does this:"
   ]
  },
  {
   "cell_type": "code",
   "execution_count": null,
   "metadata": {},
   "outputs": [],
   "source": [
    "sorted([2,4,3,5,1,6])"
   ]
  },
  {
   "cell_type": "markdown",
   "metadata": {},
   "source": [
    "We need a way to tell the function *how* to sort our data.\n",
    "We can do this by specifying the ``key`` function, a function which given an item returns the sorting key for that item:"
   ]
  },
  {
   "cell_type": "code",
   "execution_count": null,
   "metadata": {},
   "outputs": [],
   "source": [
    "# sort alphabetically by first name\n",
    "sorted(data, key=lambda item: item['first'])"
   ]
  },
  {
   "cell_type": "code",
   "execution_count": null,
   "metadata": {},
   "outputs": [],
   "source": [
    "# sort by year of birth\n",
    "sorted(data, key=lambda item: item['YOB'])"
   ]
  },
  {
   "cell_type": "markdown",
   "metadata": {},
   "source": [
    "While these key functions could certainly be created by the normal, ``def`` syntax, the ``lambda`` syntax is convenient for such short one-off functions like these.\n",
    "\n",
    "This is how it would look like using a standard function."
   ]
  },
  {
   "cell_type": "code",
   "execution_count": null,
   "metadata": {},
   "outputs": [],
   "source": [
    "def by_lastn(dic):\n",
    "    return dic['last']\n",
    "\n",
    "sorted(data, key=by_lastn)"
   ]
  },
  {
   "cell_type": "markdown",
   "metadata": {},
   "source": [
    "## References\n",
    "*A Whirlwind Tour of Python* by Jake VanderPlas (O’Reilly). Copyright 2016 O’Reilly Media, Inc., 978-1-491-96465-1"
   ]
  }
 ],
 "metadata": {
  "anaconda-cloud": {},
  "kernelspec": {
   "display_name": "Python 3 (ipykernel)",
   "language": "python",
   "name": "python3"
  },
  "language_info": {
   "codemirror_mode": {
    "name": "ipython",
    "version": 3
   },
   "file_extension": ".py",
   "mimetype": "text/x-python",
   "name": "python",
   "nbconvert_exporter": "python",
   "pygments_lexer": "ipython3",
   "version": "3.8.13"
  }
 },
 "nbformat": 4,
 "nbformat_minor": 4
}
