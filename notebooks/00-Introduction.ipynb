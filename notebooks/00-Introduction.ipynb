{
 "cells": [
  {
   "cell_type": "markdown",
   "metadata": {
    "slideshow": {
     "slide_type": "slide"
    }
   },
   "source": [
    "# Introduction to Python"
   ]
  },
  {
   "cell_type": "markdown",
   "metadata": {},
   "source": [
    "## A bit of history\n",
    "* Created by Guido Van Rossum, which was \"Benevolent Dictator For Life\" (BDFL) until 2018 when the Python Steering Council was created.\n",
    "* Python 3.0 was released in 2008, latest version is 3.12*. We are using 3.9 in this course, but any version >3.5 should have the same behaviour for these lessons (f strings appeared in 3.6).\n",
    "* By fixing major flaws, it became backward-incompatible (a lot of Python 2 code doesn't run under Python 3)\n",
    "\n",
    "<a alt=\"First image of Black Hole\">\n",
    "<img src=\"../figures/TimelineOfProgrammingLanguages.webp\" width=700/>\n",
    "</a>\n",
    "\n",
    "Source: https://javaconceptoftheday.com/history-of-programming-languages/"
   ]
  },
  {
   "cell_type": "markdown",
   "metadata": {
    "slideshow": {
     "slide_type": "slide"
    }
   },
   "source": [
    "### How is Python diferent from all these other languages?"
   ]
  },
  {
   "cell_type": "markdown",
   "metadata": {},
   "source": [
    "### A pragmatic language\n",
    "#### *Borrow ideas from elsewhere whenever it makes sense.*\n",
    "#### *Things should be as simple as possible, but no simpler.*\n",
    "(Einstein\n",
    "#### *Python as a \"glue\" language: interoperability with many interfaces, extensibility to other languages*\n",
    "#### *Don't fret too much about performance - plan to optimize later when needed.*\n",
    "#### *Don't fight the environment and go with the flow.*\n",
    "#### *Don't try for perfection because \"good enough\" is often just that.*\n",
    "#### *(Hence) it’s okay to cut corners sometimes, especially if you can do it right later.*\n",
    "Source: http://python-history.blogspot.co.uk/2009/01/pythons-design-philosophy.html"
   ]
  },
  {
   "cell_type": "markdown",
   "metadata": {},
   "source": [
    "#### \"The Zen of Python\"\n",
    "\n",
    "    Beautiful is better than ugly.\n",
    "    Simple is better than complex.\n",
    "    Complex is better than complicated.\n",
    "    Readability counts.\n",
    "    (...)"
   ]
  },
  {
   "cell_type": "markdown",
   "metadata": {},
   "source": [
    "<img src=\"../figures/TimelineOfProgrammingLanguages.webp\" width=600/> \n"
   ]
  },
  {
   "cell_type": "markdown",
   "metadata": {},
   "source": [
    "Can you read this?\n",
    "```python\n",
    "n = int(input('Type a number, and its factorial will be printed: '))\n",
    "\n",
    "if n < 0:\n",
    "    raise ValueError('You must enter a non negative integer')\n",
    "\n",
    "factorial = 1\n",
    "for i in range(2, n + 1):\n",
    "    factorial = factorial*i\n",
    "\n",
    "print(factorial)\n",
    "```\n",
    "\n",
    "Unlike other languages, there are no {} or ; to structure the code. This is done by indentation (spaces from the left). "
   ]
  },
  {
   "cell_type": "markdown",
   "metadata": {},
   "source": [
    "### Why does code readability matter?\n",
    "\n",
    "The code is writen once but read many times, to:\n",
    "- understand what is does,\n",
    "- fix a problem,\n",
    "- add a new feature."
   ]
  },
  {
   "cell_type": "markdown",
   "metadata": {
    "slideshow": {
     "slide_type": "subslide"
    }
   },
   "source": [
    "Premise: **Adopting Python as the main computing tool encourages *good coding practices*, *efficient data analysis* and *open-access* research, helping scientific community reduce the so-called reproducibility crisis.**"
   ]
  },
  {
   "cell_type": "code",
   "execution_count": null,
   "metadata": {
    "slideshow": {
     "slide_type": "fragment"
    }
   },
   "outputs": [],
   "source": [
    "# What happens here?\n",
    "import this"
   ]
  },
  {
   "cell_type": "markdown",
   "metadata": {
    "slideshow": {
     "slide_type": "slide"
    }
   },
   "source": [
    "## Scientific Python ecosystem"
   ]
  },
  {
   "cell_type": "markdown",
   "metadata": {
    "slideshow": {
     "slide_type": "subslide"
    }
   },
   "source": [
    "Another reason that research scientists have flocked to Python (and why those that haven't should) is that there's a giant ecosystem available."
   ]
  },
  {
   "cell_type": "markdown",
   "metadata": {
    "slideshow": {
     "slide_type": "fragment"
    }
   },
   "source": [
    "\n",
    "<img src=\"../figures/scipy-ecosystem.png\"  width=500/> \n",
    "\n",
    "Due to the libraries PyTorch, TensorFlow and Keras it is very used AI, in particular Neural Networks.\n",
    "\n",
    "### Number of Packages compared with Rust and R\n",
    "<a href=\"https://www.nature.com/articles/d41586-020-03382-2\">\n",
    "<img src=\"../figures/trend_packages.png\" width=600/>\n",
    "</a>"
   ]
  },
  {
   "cell_type": "markdown",
   "metadata": {},
   "source": [
    "## Turning the Wheels of Science\n",
    "\n",
    "### First image of a Black Hole\n",
    "\n",
    "https://numpy.org/case-studies/blackhole-image/\n",
    "\n",
    "<a alt=\"First image of Black Hole\">\n",
    "<img src=\"../figures/black_hole.png\" width=400/>\n",
    "</a>\n",
    "\n",
    "\n",
    "## Further Reading\n",
    "* [Scientific success stories](https://www.python.org/about/success/#scientific)\n",
    "* [\"Why Scientists Should Use Python for Scientific Computing\"](https://www.datacamp.com/community/blog/python-scientific-computing-case)"
   ]
  },
  {
   "cell_type": "markdown",
   "metadata": {
    "slideshow": {
     "slide_type": "slide"
    }
   },
   "source": [
    "## The Popularity of Python\n",
    "\n",
    "Because python is a very versatile and intuitive language, it has become very popular. \n"
   ]
  },
  {
   "cell_type": "markdown",
   "metadata": {
    "slideshow": {
     "slide_type": "subslide"
    }
   },
   "source": [
    "### Top Languages on GitHub repositories: primed for collaboration\n",
    "\n",
    "<a href=\"https://github.blog/wp-content/uploads/2023/11/top-programming-languages-2023.png\">\n",
    "<img src=\"https://github.blog/wp-content/uploads/2023/11/top-programming-languages-2023.png\" width=700/>\n",
    "</a>\n",
    "\n",
    "\n",
    "\n",
    "\n",
    "### StackOverflow Suyrvey 2022: a community ready to help\n",
    "\n",
    "| 2022         | Python |\n",
    "|--------------|--------|\n",
    "| Most questions | 2nd    | \n",
    "| Most Popular | 4th    | \n",
    "| Most Loved   | 6th    | \n",
    "| Most Dreaded | 37th   | \n",
    "| Most Wanted  | 2nd    |\n",
    "\n",
    "\n",
    "#### Most questions\n",
    "\n",
    "<a href=\"https://insights.stackoverflow.com/trends?tags=java%2Cc%2B%2B%2Cpython%2Cc%23%2Cjavascript%2Cphp%2Cr\">\n",
    "<img src=\"../figures/stackoverflow_insights.png\" width=600 />\n",
    "</a>\n",
    "\n",
    "\n",
    "#### Most popular laguages\n",
    "\n",
    "<a href=\"https://survey.stackoverflow.co/2022/#section-most-popular-technologies-programming-scripting-and-markup-languages\">\n",
    "<img src=\"../figures/stackoverflow_most_popular.png\" width=500 />\n",
    "</a>\n",
    "\n",
    "\n",
    "#### Most wanted laguages\n",
    "\n",
    "<a href=\"https://survey.stackoverflow.co/2022/#section-most-loved-dreaded-and-wanted-programming-scripting-and-markup-languages\">\n",
    "<img src=\"../figures/stackoverflow_most_wanted.png\" height=800/>\n",
    "</a>\n",
    "\n",
    "#### Most loved vs. dreaded laguages\n",
    "\n",
    "<a href=\"https://survey.stackoverflow.co/2022/#section-most-loved-dreaded-and-wanted-programming-scripting-and-markup-languages\">\n",
    "<img src=\"../figures/stackoverflow_most_loved.png\" height=800/>\n",
    "</a>\n",
    "\n"
   ]
  }
 ],
 "metadata": {
  "anaconda-cloud": {},
  "kernelspec": {
   "display_name": "Python 3 (ipykernel)",
   "language": "python",
   "name": "python3"
  },
  "language_info": {
   "codemirror_mode": {
    "name": "ipython",
    "version": 3
   },
   "file_extension": ".py",
   "mimetype": "text/x-python",
   "name": "python",
   "nbconvert_exporter": "python",
   "pygments_lexer": "ipython3",
   "version": "3.10.6"
  }
 },
 "nbformat": 4,
 "nbformat_minor": 4
}
