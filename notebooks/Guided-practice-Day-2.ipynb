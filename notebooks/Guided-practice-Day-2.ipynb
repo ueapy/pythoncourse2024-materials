{
 "cells": [
  {
   "attachments": {},
   "cell_type": "markdown",
   "metadata": {},
   "source": [
    "## Exercise 1 - Endless input\n",
    "\n",
    "Request the user to type in a number and print out the square root to 3 decimal places\n",
    "\n",
    "i.e.\n",
    "\n",
    "    Square root: 3.141\n",
    "\n",
    "Keep requesting jumbers until interrupted."
   ]
  },
  {
   "cell_type": "code",
   "execution_count": null,
   "metadata": {},
   "outputs": [],
   "source": [
    "# your code\n"
   ]
  },
  {
   "attachments": {},
   "cell_type": "markdown",
   "metadata": {},
   "source": [
    "## Exercise 2 - Validate input\n",
    "\n",
    "\n",
    "Extend the previous exercise so that if the input is not a float, print error message.\n",
    "\n",
    "To find out the type of error raised by an incorrect input, you can execute\n",
    "\n",
    "    float(<incorrect_input>)"
   ]
  },
  {
   "cell_type": "code",
   "execution_count": null,
   "metadata": {},
   "outputs": [],
   "source": [
    "# your code\n",
    "# Remember the construct try, except, else, finally\n"
   ]
  },
  {
   "attachments": {},
   "cell_type": "markdown",
   "metadata": {},
   "source": [
    "## Exercise 3 - Calculate average for sequence of observations\n",
    "\n",
    "- Simulate a sequences of maxn measurements using a pseudo number generator\n",
    "\n",
    "    ```random.normalvariate(mu, sigma)```\n",
    "\n",
    "- Print the observation, and for a number of samples above ```minsamples``` print the estimated average.\n",
    "\n",
    "- You can calculate the average up to sample n from the observations and the average for n-1:\n",
    "    \n",
    "    $Avg_n = \\frac{ Avg_{n-1} \\times (n-1)+ obs_n  }{n}$"
   ]
  },
  {
   "cell_type": "code",
   "execution_count": null,
   "metadata": {},
   "outputs": [],
   "source": [
    "import random \n",
    "\n",
    "# your code\n"
   ]
  }
 ],
 "metadata": {
  "kernelspec": {
   "display_name": "Python 3 (ipykernel)",
   "language": "python",
   "name": "python3"
  },
  "language_info": {
   "codemirror_mode": {
    "name": "ipython",
    "version": 3
   },
   "file_extension": ".py",
   "mimetype": "text/x-python",
   "name": "python",
   "nbconvert_exporter": "python",
   "pygments_lexer": "ipython3",
   "version": "3.8.13"
  }
 },
 "nbformat": 4,
 "nbformat_minor": 4
}
