{
 "cells": [
  {
   "cell_type": "markdown",
   "metadata": {
    "slideshow": {
     "slide_type": "slide"
    }
   },
   "source": [
    "# **Built-In Data Structures**"
   ]
  },
  {
   "cell_type": "markdown",
   "metadata": {
    "slideshow": {
     "slide_type": "fragment"
    }
   },
   "source": [
    "Python also has several built-in compound types, which act as containers for other types.\n",
    "\n",
    "| Type Name | Example                   |Description                            |\n",
    "|-----------|---------------------------|---------------------------------------|\n",
    "| ``list``  | ``['Lisa', 24, '2X']``             | Ordered collection                    |\n",
    "| ``tuple`` | ``('Lisa', 24, '2X')``             | Immutable ordered collection          |\n",
    "| ``dict``  | ``{'name':'Lisa', 'ID':24, 'Class':'2X'}`` | Unordered (key,value) mapping         |\n",
    "| ``set``   | ``{'Lisa', 'Ellie', 'Jon'}``             | Unordered collection of unique values |\n",
    "\n",
    "Note that (), [], and {} brackets are sed to set the type of structure.\n",
    "\n",
    "Later on we will also look at Numpy arrays which is the prefered class for large numeric datasets."
   ]
  },
  {
   "cell_type": "markdown",
   "metadata": {
    "slideshow": {
     "slide_type": "slide"
    }
   },
   "source": [
    "## <u>Lists</u>\n",
    "Lists are the basic **ordered** and **mutable** data collection type in Python."
   ]
  },
  {
   "cell_type": "code",
   "execution_count": null,
   "metadata": {
    "slideshow": {
     "slide_type": "fragment"
    }
   },
   "outputs": [],
   "source": [
    "a = []             # create an empty list\n",
    "a = [2, 3, 5, 7]   # create a list with integers"
   ]
  },
  {
   "cell_type": "markdown",
   "metadata": {
    "slideshow": {
     "slide_type": "skip"
    }
   },
   "source": [
    "Lists have a number of useful properties and methods available to them:"
   ]
  },
  {
   "cell_type": "markdown",
   "metadata": {},
   "source": [
    "* Length of a list"
   ]
  },
  {
   "cell_type": "code",
   "execution_count": null,
   "metadata": {
    "slideshow": {
     "slide_type": "fragment"
    }
   },
   "outputs": [],
   "source": [
    "len(a)"
   ]
  },
  {
   "cell_type": "markdown",
   "metadata": {},
   "source": [
    "* Append (method) element to the end of the list"
   ]
  },
  {
   "cell_type": "code",
   "execution_count": null,
   "metadata": {
    "slideshow": {
     "slide_type": "fragment"
    }
   },
   "outputs": [],
   "source": [
    "a.append(11)\n",
    "a"
   ]
  },
  {
   "cell_type": "markdown",
   "metadata": {},
   "source": [
    "* Addition (+) concatenates lists"
   ]
  },
  {
   "cell_type": "code",
   "execution_count": null,
   "metadata": {
    "slideshow": {
     "slide_type": "subslide"
    }
   },
   "outputs": [],
   "source": [
    "a + [13, 17, 19]"
   ]
  },
  {
   "cell_type": "markdown",
   "metadata": {},
   "source": [
    "* Sort (method) the elements in lists in place\n",
    "    * `.sort()` method can also be used to alphabetize a list of strings"
   ]
  },
  {
   "cell_type": "code",
   "execution_count": null,
   "metadata": {
    "slideshow": {
     "slide_type": "fragment"
    }
   },
   "outputs": [],
   "source": [
    "a = [2, 5, 1, 6, 3, 4]\n",
    "a.sort()\n",
    "a"
   ]
  },
  {
   "cell_type": "code",
   "execution_count": null,
   "metadata": {},
   "outputs": [],
   "source": [
    "b = ['horse','llama', 'zebra', 'guanaco']\n",
    "b.sort()\n",
    "b"
   ]
  },
  {
   "cell_type": "markdown",
   "metadata": {
    "slideshow": {
     "slide_type": "subslide"
    }
   },
   "source": [
    "One of the powerful features of Python's compound objects is that they can contain a mix of objects of *any* type."
   ]
  },
  {
   "cell_type": "code",
   "execution_count": null,
   "metadata": {
    "slideshow": {
     "slide_type": "fragment"
    }
   },
   "outputs": [],
   "source": [
    "a = [1, 'two', 3.14, [0, 3, 5], False]\n",
    "a"
   ]
  },
  {
   "cell_type": "markdown",
   "metadata": {
    "slideshow": {
     "slide_type": "skip"
    }
   },
   "source": [
    "This flexibility is a consequence of Python's dynamic type system.\n",
    "Creating such a mixed sequence in a statically-typed language like C can be much more of a headache!\n",
    "We see that lists can even contain other lists as elements.\n",
    "Such type flexibility is an essential piece of what makes Python code relatively quick and easy to write.\n"
   ]
  },
  {
   "cell_type": "markdown",
   "metadata": {},
   "source": [
    "### 1. Exercises: List creation\n",
    "\n",
    "**Ex 1.1**: Create and print a list with the integer numbers 2015 to 2022."
   ]
  },
  {
   "cell_type": "code",
   "execution_count": null,
   "metadata": {},
   "outputs": [],
   "source": [
    "# Create list"
   ]
  },
  {
   "cell_type": "markdown",
   "metadata": {},
   "source": [
    "**Ex 1.2**: Create a list with the names of countries of the United Kingdom"
   ]
  },
  {
   "cell_type": "code",
   "execution_count": null,
   "metadata": {
    "tags": []
   },
   "outputs": [],
   "source": [
    "# Create list"
   ]
  },
  {
   "cell_type": "markdown",
   "metadata": {},
   "source": [
    "**Ex 1.3**:\n",
    "* Create two separate lists, each with dates formatted as `[year, month, day]`\n",
    "    * e.g., `[1789,7,14]` could be the first list\n",
    "* Create and print a list that contains the two previous lists (a list of lists!)"
   ]
  },
  {
   "cell_type": "code",
   "execution_count": null,
   "metadata": {},
   "outputs": [],
   "source": [
    "# Create two separate lists"
   ]
  },
  {
   "cell_type": "code",
   "execution_count": null,
   "metadata": {},
   "outputs": [],
   "source": [
    "# Create a list of the two above lists"
   ]
  },
  {
   "cell_type": "markdown",
   "metadata": {
    "slideshow": {
     "slide_type": "subslide"
    }
   },
   "source": [
    "## <u>List indexing and slicing</u>\n",
    "Python provides access to elements in compound types through *indexing* for single elements, and *slicing* for multiple elements."
   ]
  },
  {
   "cell_type": "code",
   "execution_count": null,
   "metadata": {
    "slideshow": {
     "slide_type": "fragment"
    }
   },
   "outputs": [],
   "source": [
    "a = [2, 3, 5, 7, 11]"
   ]
  },
  {
   "cell_type": "markdown",
   "metadata": {
    "slideshow": {
     "slide_type": "fragment"
    }
   },
   "source": [
    "Python uses *zero-based* indexing, so we can access the first and second element in using the following syntax:"
   ]
  },
  {
   "cell_type": "code",
   "execution_count": null,
   "metadata": {
    "slideshow": {
     "slide_type": "fragment"
    }
   },
   "outputs": [],
   "source": [
    "a[0]"
   ]
  },
  {
   "cell_type": "code",
   "execution_count": null,
   "metadata": {
    "slideshow": {
     "slide_type": "fragment"
    }
   },
   "outputs": [],
   "source": [
    "a[1]"
   ]
  },
  {
   "cell_type": "markdown",
   "metadata": {
    "slideshow": {
     "slide_type": "subslide"
    }
   },
   "source": [
    "Elements at the end of the list can be accessed with negative numbers, starting from -1:"
   ]
  },
  {
   "cell_type": "code",
   "execution_count": null,
   "metadata": {
    "slideshow": {
     "slide_type": "fragment"
    }
   },
   "outputs": [],
   "source": [
    "a[-1]"
   ]
  },
  {
   "cell_type": "code",
   "execution_count": null,
   "metadata": {
    "slideshow": {
     "slide_type": "fragment"
    }
   },
   "outputs": [],
   "source": [
    "a[-2]"
   ]
  },
  {
   "cell_type": "markdown",
   "metadata": {
    "slideshow": {
     "slide_type": "subslide"
    }
   },
   "source": [
    "You can visualize this indexing scheme this way:"
   ]
  },
  {
   "cell_type": "markdown",
   "metadata": {
    "slideshow": {
     "slide_type": "fragment"
    }
   },
   "source": [
    "![List Indexing Figure](../figures/list-indexing.png)"
   ]
  },
  {
   "cell_type": "markdown",
   "metadata": {
    "slideshow": {
     "slide_type": "fragment"
    }
   },
   "source": [
    "Here values in the list are represented by large numbers in the squares; list indices are represented by small numbers above and below.\n",
    "In this case, ``L[2]`` returns ``5``, because that is the next value at index ``2``."
   ]
  },
  {
   "cell_type": "markdown",
   "metadata": {
    "slideshow": {
     "slide_type": "subslide"
    }
   },
   "source": [
    "While **indexing** is a means of fetching a single value from the list, **slicing** is a means of accessing multiple values - a sub-list.\n",
    "To slice a part of a list, we can use a **colon** (:) to indicate the start point (inclusive) and end point (non-inclusive) of the sub-array. You can think of the colon as shorthand for **everything in between**.\n",
    "\n",
    "\n",
    "For example, to get the 2nd, 3rd and 4th elements of the list `a`, or `a[1]`, `a[2]` and `a[3]`, we can write:"
   ]
  },
  {
   "cell_type": "code",
   "execution_count": null,
   "metadata": {
    "slideshow": {
     "slide_type": "fragment"
    }
   },
   "outputs": [],
   "source": [
    "a[1:4]"
   ]
  },
  {
   "cell_type": "markdown",
   "metadata": {
    "slideshow": {
     "slide_type": "fragment"
    }
   },
   "source": [
    "If we leave out the number on the left side of the colon, it defaults to grabbing everything left of the 5th element:"
   ]
  },
  {
   "cell_type": "code",
   "execution_count": null,
   "metadata": {
    "slideshow": {
     "slide_type": "fragment"
    }
   },
   "outputs": [],
   "source": [
    "a[:4]"
   ]
  },
  {
   "cell_type": "markdown",
   "metadata": {
    "slideshow": {
     "slide_type": "subslide"
    }
   },
   "source": [
    "Similarly, if we leave out the last index, it defaults to the length of the list.\n",
    "Thus, the last 2 elements can be accessed as follows:"
   ]
  },
  {
   "cell_type": "code",
   "execution_count": null,
   "metadata": {
    "slideshow": {
     "slide_type": "fragment"
    }
   },
   "outputs": [],
   "source": [
    "a[3:]"
   ]
  },
  {
   "cell_type": "markdown",
   "metadata": {
    "slideshow": {
     "slide_type": "subslide"
    }
   },
   "source": [
    "Finally, it is possible to specify a third integer that represents the step size; for example, to select every second element of the list, we can write:"
   ]
  },
  {
   "cell_type": "code",
   "execution_count": null,
   "metadata": {
    "slideshow": {
     "slide_type": "fragment"
    }
   },
   "outputs": [],
   "source": [
    "a[0:len(a):2]\n",
    "# or a[0:5:2]"
   ]
  },
  {
   "cell_type": "markdown",
   "metadata": {},
   "source": [
    "This can also be shortened to:"
   ]
  },
  {
   "cell_type": "code",
   "execution_count": null,
   "metadata": {},
   "outputs": [],
   "source": [
    "a[::2]"
   ]
  },
  {
   "cell_type": "markdown",
   "metadata": {
    "slideshow": {
     "slide_type": "fragment"
    }
   },
   "source": [
    "A particularly useful version of this is to specify a negative step, which will reverse the array:"
   ]
  },
  {
   "cell_type": "code",
   "execution_count": null,
   "metadata": {
    "slideshow": {
     "slide_type": "fragment"
    }
   },
   "outputs": [],
   "source": [
    "a[::-1]"
   ]
  },
  {
   "cell_type": "markdown",
   "metadata": {
    "slideshow": {
     "slide_type": "skip"
    }
   },
   "source": [
    "Both indexing and slicing can be used to redefine elements just as it was used to access them.\n",
    "The syntax is as you would expect:"
   ]
  },
  {
   "cell_type": "code",
   "execution_count": null,
   "metadata": {
    "slideshow": {
     "slide_type": "skip"
    }
   },
   "outputs": [],
   "source": [
    "a[0] = 100\n",
    "print(a)"
   ]
  },
  {
   "cell_type": "code",
   "execution_count": null,
   "metadata": {
    "slideshow": {
     "slide_type": "skip"
    }
   },
   "outputs": [],
   "source": [
    "a[1:3] = [55, 56]\n",
    "print(a)"
   ]
  },
  {
   "cell_type": "markdown",
   "metadata": {},
   "source": [
    "### 2. Exercises: List indexing\n",
    "\n",
    "**Ex 2.1**: Using the list with values 2015 to 2022,\n",
    "\n",
    "```python\n",
    "years = [2015,2016,2017,2018,2019,2020,2021,2022]\n",
    "```        \n",
    "       \n",
    "* Print the first two values in the list.\n",
    "* Print the even years in the list.\n",
    "* Print the two last values in the list."
   ]
  },
  {
   "cell_type": "code",
   "execution_count": null,
   "metadata": {},
   "outputs": [],
   "source": [
    "# First two values"
   ]
  },
  {
   "cell_type": "code",
   "execution_count": null,
   "metadata": {},
   "outputs": [],
   "source": [
    "# Even years"
   ]
  },
  {
   "cell_type": "code",
   "execution_count": null,
   "metadata": {},
   "outputs": [],
   "source": [
    "# Last two values"
   ]
  },
  {
   "cell_type": "markdown",
   "metadata": {},
   "source": [
    "## <u>Methods and Attributes of Class List</u> \n",
    "\n",
    "Every list variable (i.e. every instance of Class List) has predefined attributes and methods. \n",
    "Remember that these can be called by using the dot notation: \n",
    "type the name of a list variable with a dot afterwards and press Tab to open a menu with the possibilites. \n",
    "\n",
    "`mylist.`(press Tab)\n",
    "\n",
    "In the exercises below we will use methods `.insert()`, `.append()` and `.remove()`.\n",
    "\n",
    "You can also list all the methods and attributes of an object by using buildtin function `dir()` "
   ]
  },
  {
   "cell_type": "code",
   "execution_count": null,
   "metadata": {},
   "outputs": [],
   "source": [
    "dir(a)"
   ]
  },
  {
   "cell_type": "markdown",
   "metadata": {},
   "source": [
    "### 3. Exercises: Methods and Attributes of Class List"
   ]
  },
  {
   "cell_type": "markdown",
   "metadata": {},
   "source": [
    "**Ex 3.1**: \n",
    "* Copy and paste the following list into the cell below:\n",
    "\n",
    "```python\n",
    "data = [10,12,13,18,'error',22]\n",
    "```\n",
    "\n",
    "* Append the number 24 to the list and print.\n",
    "* Insert the number 15 to the list such that the elements are in ascending order and print.\n",
    "    * Hint: don't forget Python indexing starts at 0!\n",
    "* Remove the `'error'` string in the list and print."
   ]
  },
  {
   "cell_type": "code",
   "execution_count": null,
   "metadata": {},
   "outputs": [],
   "source": [
    "# Copy and paste data"
   ]
  },
  {
   "cell_type": "code",
   "execution_count": null,
   "metadata": {
    "tags": []
   },
   "outputs": [],
   "source": [
    "# Append 24 to the list"
   ]
  },
  {
   "cell_type": "code",
   "execution_count": null,
   "metadata": {},
   "outputs": [],
   "source": [
    "# Insert 15 to the list"
   ]
  },
  {
   "cell_type": "code",
   "execution_count": null,
   "metadata": {},
   "outputs": [],
   "source": [
    "# Remove 'error' from the list"
   ]
  },
  {
   "cell_type": "markdown",
   "metadata": {},
   "source": [
    "**Ex 3.2**:\n",
    "* Copy and paste the following list into the cell below:\n",
    "```python\n",
    "countries = ['Hungary','Motenegro','Turkey','Finland','Lithuania']\n",
    "```        \n",
    "* Alphabetize the list and print.\n",
    "* Reverse the order of the list and print."
   ]
  },
  {
   "cell_type": "code",
   "execution_count": null,
   "metadata": {},
   "outputs": [],
   "source": [
    "# Copy and paste data"
   ]
  },
  {
   "cell_type": "code",
   "execution_count": null,
   "metadata": {},
   "outputs": [],
   "source": [
    "# Alphabetize the list"
   ]
  },
  {
   "cell_type": "code",
   "execution_count": null,
   "metadata": {},
   "outputs": [],
   "source": [
    "# Reverse the order of the list (hint: there are multiple ways to do this)"
   ]
  },
  {
   "cell_type": "markdown",
   "metadata": {},
   "source": [
    "## <u>Working with lists: List comprehensions</u>\n",
    "\n",
    "**List comprehensions** allow us to perform operations on every **member** and save the modified members in a list. If used judiciously it can result in a concise and highly readable statement. \n",
    "\n",
    "Syntax:\n",
    "\n",
    "```python\n",
    "new_list = [expression for member in iterable]\n",
    "```\n",
    "\n",
    "The equivalent `for` loop would be:\n",
    "\n",
    "```python\n",
    "new_list = [] # initialize new_list as empty list\n",
    "for member in iterable: # loop through every member in iterable\n",
    "    new_list.append(member) # on each iteration, append each member to new_list\n",
    "```\n",
    "\n",
    "**expression** - a method, operation, or any other valid expression that returns a value.\n",
    "\n",
    "**member** - the object or value in the list or iterable.\n",
    "\n",
    "**iterable** - a list, set, tuple, generator, or any other object that \n",
    "can return its elements one at a time."
   ]
  },
  {
   "cell_type": "code",
   "execution_count": null,
   "metadata": {},
   "outputs": [],
   "source": [
    "dates = ['2001-01-31','2002-02-28','2003-03-31','2004-04-30']\n",
    "newdates = [date+' 00:00' for date in dates]\n",
    "newdates"
   ]
  },
  {
   "cell_type": "markdown",
   "metadata": {},
   "source": [
    "In the example above, can you identify the expression, member, and iterable?\n",
    "\n",
    "Here is another example using string method split() and taking the second element using index [1]. Lastly, `int()` converts the string for months into an integer. "
   ]
  },
  {
   "cell_type": "code",
   "execution_count": null,
   "metadata": {},
   "outputs": [],
   "source": [
    "# first lets test how .split() and int() work\n",
    "print( dates[0] )\n",
    "print( dates[0].split('-') )\n",
    "print( dates[0].split('-')[1] )\n",
    "print( int(dates[0].split('-')[1]) )\n"
   ]
  },
  {
   "cell_type": "code",
   "execution_count": null,
   "metadata": {},
   "outputs": [],
   "source": [
    "# Now we will build the list comprehension\n",
    "months = [int(dates.split('-')[1]) for dates in dates]\n",
    "months"
   ]
  },
  {
   "cell_type": "markdown",
   "metadata": {},
   "source": [
    "## <u>Conditional list comprehension</u>\n",
    "\n",
    "Since python 3.8 there are now **conditional** list comprehensions:\n",
    "\n",
    "```python\n",
    "new_list = [expression for member in iterable (if conditional)]\n",
    "```\n",
    "\n",
    "The equivalent `for` loop would be:\n",
    "\n",
    "```python\n",
    "new_list = [] # initialize new_list as empty list\n",
    "for member in iterable: # loop through every member in iterable\n",
    "    if conditional: # for each member, check if conditional is true\n",
    "        new_list.append(member) # if conditional is true for member, append that member to new_list\n",
    "```"
   ]
  },
  {
   "cell_type": "markdown",
   "metadata": {},
   "source": [
    "In the following example:\n",
    "\n",
    "* `dataID` is a list containing the unique identifiers for each row of data in some dataset.\n",
    "\n",
    "* The identifiers are based on the country (SP = Spain, US = United States, FR = France, MX = Mexico) and year."
   ]
  },
  {
   "cell_type": "code",
   "execution_count": null,
   "metadata": {},
   "outputs": [],
   "source": [
    "dataID = ['SP2012','US2014','FR2016','SP2013','FR2013','MX2019']"
   ]
  },
  {
   "cell_type": "markdown",
   "metadata": {},
   "source": [
    "We would like to extract the complete IDs, but only for Spain's data."
   ]
  },
  {
   "cell_type": "code",
   "execution_count": null,
   "metadata": {},
   "outputs": [],
   "source": [
    "dataID_SP = [ID for ID in dataID if 'SP' in ID]\n",
    "print(dataID_SP)"
   ]
  },
  {
   "cell_type": "markdown",
   "metadata": {},
   "source": [
    "In the following example:\n",
    "\n",
    "* `T_F` is a list containing temperature data, in Fahrenheit."
   ]
  },
  {
   "cell_type": "code",
   "execution_count": null,
   "metadata": {},
   "outputs": [],
   "source": [
    "T_F = [81,86,76,'error',70,93,'error']"
   ]
  },
  {
   "cell_type": "markdown",
   "metadata": {},
   "source": [
    "We would like to convert all data points that are not errors into Celsius."
   ]
  },
  {
   "cell_type": "code",
   "execution_count": null,
   "metadata": {},
   "outputs": [],
   "source": [
    "T_C = [(T-32)*(5/9) for T in T_F if isinstance(T,(int))]\n",
    "# or T_C = [(T-32)*(5/9) for T in T_F if (T!='error')]\n",
    "T_C"
   ]
  },
  {
   "cell_type": "markdown",
   "metadata": {},
   "source": [
    "What if we wanted to keep the errors?\n",
    "* The `if-else` must be a part of the expression. \n",
    "* Thus, we must specify the conditional **before** the `for member in iterable` statement. "
   ]
  },
  {
   "cell_type": "code",
   "execution_count": null,
   "metadata": {},
   "outputs": [],
   "source": [
    "T_C = [(T-32)*(5/9) if isinstance(T,(int)) else T for T in T_F]\n",
    "T_C"
   ]
  },
  {
   "cell_type": "markdown",
   "metadata": {},
   "source": [
    "### 4. Exercises: List comprehensions\n",
    "\n",
    "#### Ex 4.1: Unit Conversion\n",
    "* The following list contains temperature data in Celsius: \n",
    "        T_C = [15,7,11,20,13,4]\n",
    "* Copy and paste the line above into the cell below and convert the data in `T_C` into Kelvin.\n",
    "    * Note: $T_{Kelvin} = T_{Celsius} + 273.15$"
   ]
  },
  {
   "cell_type": "code",
   "execution_count": null,
   "metadata": {},
   "outputs": [],
   "source": [
    "T_C = [15,7,11,20,13,4]\n",
    "T_K = [temp+273.15 for temp in T_C]\n",
    "T_K"
   ]
  },
  {
   "cell_type": "markdown",
   "metadata": {},
   "source": [
    "#### Ex 4.2: Data Selection\n",
    "* Using the variable `dataID` below, extract all the data IDs for the year 2013.\n",
    "```python\n",
    "dataID = ['SP2012','US2014','FR2016','SP2013','FR2013','MX2019']\n",
    "```"
   ]
  },
  {
   "cell_type": "code",
   "execution_count": null,
   "metadata": {},
   "outputs": [],
   "source": []
  },
  {
   "cell_type": "markdown",
   "metadata": {},
   "source": [
    "#### Ex 4.3: Data Cleaning\n",
    "* Using the variable `T_C` from Ex 4.1 (copied here for your convenience), extract all values above 10 degrees.\n",
    "```python\n",
    "T_C = [15,7,11,20,13,4]\n",
    "```"
   ]
  },
  {
   "cell_type": "code",
   "execution_count": null,
   "metadata": {
    "scrolled": true
   },
   "outputs": [],
   "source": []
  },
  {
   "cell_type": "markdown",
   "metadata": {
    "slideshow": {
     "slide_type": "slide"
    }
   },
   "source": [
    "## <u>Tuples</u>\n",
    "Tuples are in many ways similar to lists, but they are defined with parentheses.\n",
    "\n",
    "The main distinguishing feature of tuples is that they are **immutable**:\n",
    "* Once they are created, their size and contents cannot be changed; nor can you change the order of the elements in them.\n",
    "\n",
    "Tuples are often used in a Python program; e.g. in functions that have multiple return values."
   ]
  },
  {
   "cell_type": "code",
   "execution_count": null,
   "metadata": {
    "slideshow": {
     "slide_type": "fragment"
    }
   },
   "outputs": [],
   "source": [
    "t = (1, 2, 3)"
   ]
  },
  {
   "cell_type": "markdown",
   "metadata": {
    "slideshow": {
     "slide_type": "fragment"
    }
   },
   "source": [
    "They can also be defined without any brackets at all:"
   ]
  },
  {
   "cell_type": "code",
   "execution_count": null,
   "metadata": {
    "slideshow": {
     "slide_type": "fragment"
    }
   },
   "outputs": [],
   "source": [
    "t = 1, 2, 3\n",
    "print(t)"
   ]
  },
  {
   "cell_type": "markdown",
   "metadata": {
    "slideshow": {
     "slide_type": "subslide"
    }
   },
   "source": [
    "Like the lists discussed before, tuples have a length, and individual elements can be extracted using square-bracket indexing. But unlike lists, once created it is not possible to modify them."
   ]
  },
  {
   "cell_type": "code",
   "execution_count": null,
   "metadata": {
    "slideshow": {
     "slide_type": "fragment"
    }
   },
   "outputs": [],
   "source": [
    "len(t)"
   ]
  },
  {
   "cell_type": "code",
   "execution_count": null,
   "metadata": {
    "slideshow": {
     "slide_type": "fragment"
    }
   },
   "outputs": [],
   "source": [
    "t[0]"
   ]
  },
  {
   "cell_type": "code",
   "execution_count": null,
   "metadata": {
    "slideshow": {
     "slide_type": "fragment"
    }
   },
   "outputs": [],
   "source": [
    "t[0] = 4"
   ]
  },
  {
   "cell_type": "markdown",
   "metadata": {
    "slideshow": {
     "slide_type": "slide"
    }
   },
   "source": [
    "## <u>Dictionaries</u>\n",
    "Dictionaries map **keys** to **values**. They form the basis of much of Python's internal implementation. You will also see them used to specify settings in many packages, such as the plotting package Matplotlib. \n",
    "\n",
    "Dictionaries are used much like, well, dictionaries!\n",
    "* A dictionary maps a word (**key**) to its definition (**value**).\n",
    "\n",
    "Another good analogy for a Python dictionary is a phonebook:\n",
    "* A phonebook maps a person (**key**) to a phone number (**value**).\n",
    "\n",
    "Much like a dictionary or phonebook, dictionaries are useful for when you have a datapoints that each have unique values that you might want to look up."
   ]
  },
  {
   "cell_type": "markdown",
   "metadata": {},
   "source": [
    "Dictionaries can be created via a comma-separated list of ``key:value`` pairs within **{curly braces}**, or by using the `dict()` function."
   ]
  },
  {
   "cell_type": "code",
   "execution_count": null,
   "metadata": {
    "slideshow": {
     "slide_type": "fragment"
    }
   },
   "outputs": [],
   "source": [
    "numbers = {'one':1, 'two':2, 'three':3}\n",
    "# or\n",
    "numbers = dict(one=1, two=2, three=2)\n",
    "numbers"
   ]
  },
  {
   "cell_type": "markdown",
   "metadata": {
    "slideshow": {
     "slide_type": "subslide"
    }
   },
   "source": [
    "You access items in a dictionary using similar syntax as lists and tuples (with brackets [ ]). However, instead of using a numbered index, you have to use a valid **key** in the dictionary."
   ]
  },
  {
   "cell_type": "code",
   "execution_count": null,
   "metadata": {
    "slideshow": {
     "slide_type": "fragment"
    }
   },
   "outputs": [],
   "source": [
    "# Access a value via the key\n",
    "numbers['two']"
   ]
  },
  {
   "cell_type": "markdown",
   "metadata": {
    "slideshow": {
     "slide_type": "fragment"
    }
   },
   "source": [
    "New items can be added to the dictionary using indexing as well:"
   ]
  },
  {
   "cell_type": "code",
   "execution_count": null,
   "metadata": {
    "slideshow": {
     "slide_type": "fragment"
    }
   },
   "outputs": [],
   "source": [
    "# Set a new key:value pair\n",
    "numbers['ninety'] = 90\n",
    "print(numbers)"
   ]
  },
  {
   "cell_type": "markdown",
   "metadata": {},
   "source": [
    "You can also storedata in a \"tiered\" way - an entry with **multiple keys** - with a dictionaries. To do this, you would nest an extra pair of **curly braces {}** within the dictionary entry for each additional key."
   ]
  },
  {
   "cell_type": "code",
   "execution_count": null,
   "metadata": {},
   "outputs": [],
   "source": [
    "phonebook = {'Alice': {'mobile': {'US':1234567,\n",
    "                                  'UK':1122334}},\n",
    "                       'home':7654321,\n",
    "            'Matthew':{'mobile':9876543,\n",
    "                       'home':234567}}\n",
    "phonebook"
   ]
  },
  {
   "cell_type": "markdown",
   "metadata": {},
   "source": [
    "To access specific entries, you would index all the keys corresponding to the entry, in the order that they are nested:"
   ]
  },
  {
   "cell_type": "code",
   "execution_count": null,
   "metadata": {},
   "outputs": [],
   "source": [
    "print(phonebook['Alice'])\n",
    "print(phonebook['Alice']['mobile'])\n",
    "print(phonebook['Alice']['mobile']['US'])"
   ]
  },
  {
   "cell_type": "markdown",
   "metadata": {
    "slideshow": {
     "slide_type": "subslide"
    }
   },
   "source": [
    "Note: Prior to version 3.6, dictionaries **did not maintain any order** for the input parameters. [From Python 3.6 onwards](https://docs.python.org/3/whatsnew/3.6.html#whatsnew36-compactdict), the standard `dict` maintains insertion order by default. "
   ]
  },
  {
   "cell_type": "markdown",
   "metadata": {},
   "source": [
    "### 5. Exercises: Dictionaries\n",
    "\n",
    "**Ex 5.1:**\n",
    "\n",
    "* Create a dictionary that stores the scientific names of the following trees:\n",
    "\n",
    "        Scots Pine: Pinus sylvestris\n",
    "        Norway Spruce: Picea abies\n",
    "        Aleppo Pine: Pinus halepensis \n",
    "\n",
    "* Access the scientific name for Norway Spruce."
   ]
  },
  {
   "cell_type": "code",
   "execution_count": null,
   "metadata": {},
   "outputs": [],
   "source": [
    "# Create the dictionary"
   ]
  },
  {
   "cell_type": "code",
   "execution_count": null,
   "metadata": {},
   "outputs": [],
   "source": [
    "# Access the entry"
   ]
  },
  {
   "cell_type": "markdown",
   "metadata": {},
   "source": [
    "**Ex 5.2:**\n",
    "* Create a dictionary that contains population information from administrative regions of Spain and the USA:\n",
    "\n",
    "        Spain:\n",
    "            Catalonia: 7.56E6\n",
    "            Asturias: 1.022E6\n",
    "            Andalusia: 8.49E6\n",
    "        USA:\n",
    "            California: 39.24E6\n",
    "            Missouri: 6.17E6\n",
    "\n",
    "\n",
    "* Access the population of all the administrative regions of Spain.\n",
    "* Access the population of Missouri."
   ]
  },
  {
   "cell_type": "code",
   "execution_count": null,
   "metadata": {},
   "outputs": [],
   "source": [
    "# Create the dictionary"
   ]
  },
  {
   "cell_type": "code",
   "execution_count": null,
   "metadata": {},
   "outputs": [],
   "source": [
    "# Access all administrative regions of Spain"
   ]
  },
  {
   "cell_type": "code",
   "execution_count": null,
   "metadata": {},
   "outputs": [],
   "source": [
    "# Access Missouri"
   ]
  },
  {
   "cell_type": "markdown",
   "metadata": {},
   "source": [
    "## <u>Test if sequence is empty</u>"
   ]
  },
  {
   "cell_type": "markdown",
   "metadata": {},
   "source": [
    "The recommended way of testing is a sequence (list, tuple, string or dictionary) is empty is by using its \"implicit booleaness\"."
   ]
  },
  {
   "cell_type": "code",
   "execution_count": null,
   "metadata": {},
   "outputs": [],
   "source": [
    "a = []\n",
    "if not a:\n",
    "  print(\"Sequence is empty:\",a)\n",
    "\n",
    "b={'one':1}\n",
    "if b:\n",
    "  print(\"Sequence is not empty:\",b)"
   ]
  },
  {
   "cell_type": "markdown",
   "metadata": {
    "slideshow": {
     "slide_type": "skip"
    }
   },
   "source": [
    "## <u>Bonus Points: Sets</u>\n",
    "\n",
    "The 4th basic data container is the `set`, which contains unordered collections of **unique** items.\n",
    "They are defined much like lists and tuples, except they use the curly brackets of dictionaries.\n",
    "\n",
    "They do not contain duplicate entries. Which means they are significantly faster than lists!\n",
    "http://stackoverflow.com/questions/2831212/python-sets-vs-lists "
   ]
  },
  {
   "cell_type": "code",
   "execution_count": null,
   "metadata": {
    "slideshow": {
     "slide_type": "skip"
    }
   },
   "outputs": [],
   "source": [
    "primes = {2, 3, 5, 7}\n",
    "odds = {1, 3, 5, 7, 9}"
   ]
  },
  {
   "cell_type": "code",
   "execution_count": null,
   "metadata": {
    "slideshow": {
     "slide_type": "skip"
    }
   },
   "outputs": [],
   "source": [
    "a = {1, 1, 2}"
   ]
  },
  {
   "cell_type": "code",
   "execution_count": null,
   "metadata": {
    "slideshow": {
     "slide_type": "skip"
    }
   },
   "outputs": [],
   "source": [
    "a"
   ]
  },
  {
   "cell_type": "markdown",
   "metadata": {
    "slideshow": {
     "slide_type": "skip"
    }
   },
   "source": [
    "If you're familiar with the mathematics of sets, you'll be familiar with operations like the union, intersection, difference, symmetric difference, and others.\n",
    "Python's sets have all of these operations built-in, via methods or operators.\n",
    "For each, we'll show the two equivalent methods:"
   ]
  },
  {
   "cell_type": "code",
   "execution_count": null,
   "metadata": {
    "slideshow": {
     "slide_type": "skip"
    }
   },
   "outputs": [],
   "source": [
    "# union: items appearing in either\n",
    "primes | odds      # with an operator\n",
    "primes.union(odds) # equivalently with a method"
   ]
  },
  {
   "cell_type": "code",
   "execution_count": null,
   "metadata": {
    "slideshow": {
     "slide_type": "skip"
    }
   },
   "outputs": [],
   "source": [
    "# intersection: items appearing in both\n",
    "primes & odds             # with an operator\n",
    "primes.intersection(odds) # equivalently with a method"
   ]
  },
  {
   "cell_type": "code",
   "execution_count": null,
   "metadata": {
    "slideshow": {
     "slide_type": "skip"
    }
   },
   "outputs": [],
   "source": [
    "# difference: items in primes but not in odds\n",
    "primes - odds           # with an operator\n",
    "primes.difference(odds) # equivalently with a method"
   ]
  },
  {
   "cell_type": "code",
   "execution_count": null,
   "metadata": {
    "slideshow": {
     "slide_type": "skip"
    }
   },
   "outputs": [],
   "source": [
    "# symmetric difference: items appearing in only one set\n",
    "primes ^ odds                     # with an operator\n",
    "primes.symmetric_difference(odds) # equivalently with a method"
   ]
  },
  {
   "cell_type": "markdown",
   "metadata": {},
   "source": [
    "***"
   ]
  },
  {
   "cell_type": "markdown",
   "metadata": {},
   "source": [
    "# <u>Solutions</u>"
   ]
  },
  {
   "cell_type": "markdown",
   "metadata": {
    "jp-MarkdownHeadingCollapsed": true,
    "tags": []
   },
   "source": [
    "### 1. Solutions: List creation\n",
    "\n",
    "**Ex 1.1**: Create and print a list with the integer numbers 2015 to 2022."
   ]
  },
  {
   "cell_type": "code",
   "execution_count": null,
   "metadata": {
    "tags": []
   },
   "outputs": [],
   "source": [
    "years = [2015,2016,2017,2018,2019,2020,2021,2022]\n",
    "years"
   ]
  },
  {
   "cell_type": "markdown",
   "metadata": {},
   "source": [
    "**Ex 1.2**: Create and print a list with the names of countries of the United Kingdom."
   ]
  },
  {
   "cell_type": "code",
   "execution_count": null,
   "metadata": {
    "tags": []
   },
   "outputs": [],
   "source": [
    "countries = ['Scotland', 'Wales','England','Northern Ireland']\n",
    "countries"
   ]
  },
  {
   "cell_type": "markdown",
   "metadata": {},
   "source": [
    "**Ex 1.3**:\n",
    "* Create two lists with a dates as year, month, day: e.g. 1789,7,14\n",
    "* Create and print a list containing the two previous lists"
   ]
  },
  {
   "cell_type": "code",
   "execution_count": null,
   "metadata": {
    "tags": []
   },
   "outputs": [],
   "source": [
    "bastille = [1789,7,14]\n",
    "independence = [1776,7,4]\n",
    "dates = [bastille, independence]"
   ]
  },
  {
   "cell_type": "markdown",
   "metadata": {
    "jp-MarkdownHeadingCollapsed": true,
    "tags": []
   },
   "source": [
    "### 2. Solutions: List indexing\n",
    "\n",
    "**Ex 2.1**: Using the list with values 2015 to 2022\n",
    "* Print the first two values in the list\n",
    "* Print the even years in the list\n",
    "* Print the two last values in the list"
   ]
  },
  {
   "cell_type": "code",
   "execution_count": null,
   "metadata": {
    "tags": []
   },
   "outputs": [],
   "source": [
    "print(years[0:2])\n",
    "print(years[1::2])\n",
    "print(years[-2:])"
   ]
  },
  {
   "cell_type": "markdown",
   "metadata": {
    "jp-MarkdownHeadingCollapsed": true,
    "tags": []
   },
   "source": [
    "### 3. Solutions: Methods and attributes of Class List\n",
    "\n",
    "**Ex 3.1**: \n",
    "* Copy and paste the following list into the cell below:\n",
    "        data = [10,12,13,18,'error',22]\n",
    "* Append the number 24 to the list and print.\n",
    "* Insert the number 15 to the list such that the elements are in ascending order and print.\n",
    "    * Hint: don't forget Python indexing starts at 0!\n",
    "* Remove the `'error'` string in the list and print."
   ]
  },
  {
   "cell_type": "code",
   "execution_count": null,
   "metadata": {
    "tags": []
   },
   "outputs": [],
   "source": [
    "data = [10,12,13,18,'error',22]\n",
    "data.append(24)\n",
    "print(data)\n",
    "data.insert(3,15)\n",
    "print(data)\n",
    "data.remove('error')\n",
    "data"
   ]
  },
  {
   "cell_type": "markdown",
   "metadata": {},
   "source": [
    "**Ex 3.2**:\n",
    "* Copy and paste the following list into the cell below:\n",
    "        data = ['Portugal','France','Spain','England','Canada']\n",
    "* Alphabetize the list and print.\n",
    "* Reverse the order of the list and print."
   ]
  },
  {
   "cell_type": "code",
   "execution_count": null,
   "metadata": {},
   "outputs": [],
   "source": [
    "data = ['Portugal','France','Spain','England','Canada']\n",
    "data.sort()\n",
    "print(data)\n",
    "\n",
    "# Method 1\n",
    "print(data[::-1])\n",
    "\n",
    "# Method 2\n",
    "data.reverse()\n",
    "print(data)\n",
    "\n",
    "# Method 3\n",
    "data.sort(reverse=True)\n",
    "print(data)"
   ]
  },
  {
   "cell_type": "markdown",
   "metadata": {
    "jp-MarkdownHeadingCollapsed": true,
    "tags": []
   },
   "source": [
    "### 4. Solutions: List comprehensions"
   ]
  },
  {
   "cell_type": "markdown",
   "metadata": {
    "tags": []
   },
   "source": [
    "#### Ex 4.1: Unit Conversion\n",
    "* The following list contains temperature data in Celsius: \n",
    "        T_C = [15,7,11,20,13,4]\n",
    "* Copy and paste the line above into the cell below and convert the data in `T_C` into Kelvin.\n",
    "    * Note: $T_{Kelvin} = T_{Celsius} + 273.15$"
   ]
  },
  {
   "cell_type": "code",
   "execution_count": null,
   "metadata": {},
   "outputs": [],
   "source": [
    "T_C = [15,7,11,20,13,4]\n",
    "T_K = [T+273.15 for T in T_C]\n",
    "T_K"
   ]
  },
  {
   "cell_type": "markdown",
   "metadata": {},
   "source": [
    "#### Ex 4.2: Data Selection\n",
    "* Using the variable `dataID` from above, extract all the data IDs for the year 2013 (copied here for your convenience).\n",
    "        dataID = ['SP2012','US2014','FR2016','SP2013','FR2013','MX2019']"
   ]
  },
  {
   "cell_type": "code",
   "execution_count": null,
   "metadata": {},
   "outputs": [],
   "source": [
    "[ID for ID in dataID if '2013' in ID]"
   ]
  },
  {
   "cell_type": "markdown",
   "metadata": {},
   "source": [
    "#### Ex 4.3: Data Cleaning\n",
    "* Using the variable `T_C` from Ex 4.1 (copied here for your convenience), extract all values above 10 degrees.\n",
    "        T_C = [15,7,11,20,13,4]"
   ]
  },
  {
   "cell_type": "code",
   "execution_count": null,
   "metadata": {
    "scrolled": true
   },
   "outputs": [],
   "source": [
    "[T for T in T_C if T>10]"
   ]
  },
  {
   "cell_type": "markdown",
   "metadata": {
    "jp-MarkdownHeadingCollapsed": true,
    "tags": []
   },
   "source": [
    "### 5. Solutions: Dictionaries\n",
    "\n",
    "**Ex 5.1:**\n",
    "\n",
    "* Create a dictionary that stores the scientific names of the following trees:\n",
    "        Scots Pine: Pinus sylvestris\n",
    "        Norway Spruce: Picea abies\n",
    "        Aleppo Pine: Pinus halepensis \n",
    "* Access the scientific name for Norway Spruce."
   ]
  },
  {
   "cell_type": "code",
   "execution_count": null,
   "metadata": {
    "tags": []
   },
   "outputs": [],
   "source": [
    "tree_dict = {'Scots Pine': 'Pinus sylvestris',\n",
    "             'Norway Spruce': 'Picea abies',\n",
    "             'Aleppo Pine': 'Pinus halepensis'}"
   ]
  },
  {
   "cell_type": "code",
   "execution_count": null,
   "metadata": {},
   "outputs": [],
   "source": [
    "tree_dict['Norway Spruce']"
   ]
  },
  {
   "cell_type": "markdown",
   "metadata": {},
   "source": [
    "**Ex 5.2:**\n",
    "* Create a dictionary that contains population information from administrative regions of Spain and the USA:\n",
    "        Spain:\n",
    "            Catalonia: 7.56E6\n",
    "            Asturias: 1.022E6\n",
    "            Andalusia: 8.49E6\n",
    "        USA:\n",
    "            California: 39.24E6\n",
    "            Missouri: 6.17E6\n",
    "\n",
    "\n",
    "* Access the population of all the administrative regions of Spain.\n",
    "* Access the population of Missouri."
   ]
  },
  {
   "cell_type": "code",
   "execution_count": null,
   "metadata": {
    "tags": []
   },
   "outputs": [],
   "source": [
    "pop_dict = {'Spain':\n",
    "              {'Catalonia': 7.56E6,\n",
    "              'Asturias': 1.022E6,\n",
    "              'Andalusia': 8.49E6},\n",
    "            'USA':\n",
    "              {'California': 39.24E6,\n",
    "              'Missouri': 6.17E6}}"
   ]
  },
  {
   "cell_type": "code",
   "execution_count": null,
   "metadata": {},
   "outputs": [],
   "source": [
    "pop_dict['Spain']"
   ]
  },
  {
   "cell_type": "code",
   "execution_count": null,
   "metadata": {},
   "outputs": [],
   "source": [
    "pop_dict['USA']['Missouri']"
   ]
  },
  {
   "cell_type": "markdown",
   "metadata": {
    "slideshow": {
     "slide_type": "skip"
    }
   },
   "source": [
    "## References\n",
    "* *A Whirlwind Tour of Python* by Jake VanderPlas (O’Reilly). Copyright 2016 O’Reilly Media, Inc., 978-1-491-96465-1\n",
    "* The [python documentation](https://docs.python.org/3/library/stdtypes.html) of standard types"
   ]
  }
 ],
 "metadata": {
  "anaconda-cloud": {},
  "kernelspec": {
   "display_name": "Python 3 (ipykernel)",
   "language": "python",
   "name": "python3"
  },
  "language_info": {
   "codemirror_mode": {
    "name": "ipython",
    "version": 3
   },
   "file_extension": ".py",
   "mimetype": "text/x-python",
   "name": "python",
   "nbconvert_exporter": "python",
   "pygments_lexer": "ipython3",
   "version": "3.10.6"
  }
 },
 "nbformat": 4,
 "nbformat_minor": 4
}
