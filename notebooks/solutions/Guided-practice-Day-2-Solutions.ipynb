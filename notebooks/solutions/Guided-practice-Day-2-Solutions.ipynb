{
 "cells": [
  {
   "cell_type": "markdown",
   "id": "6578b9ee-5870-44b9-8551-332572dee474",
   "metadata": {},
   "source": [
    "## Solution to Exercise 1 - Endless input"
   ]
  },
  {
   "cell_type": "code",
   "execution_count": null,
   "id": "d8842105-6c6c-437d-abe1-048e917d8684",
   "metadata": {},
   "outputs": [],
   "source": [
    "while True:\n",
    "    parameter = float( input() )**0.5\n",
    "    print( f\"Square root: {parameter:.3}\" )\n"
   ]
  },
  {
   "cell_type": "markdown",
   "id": "f1e40ea3-7321-40a2-8534-e245ae14ba21",
   "metadata": {},
   "source": [
    "<br>\n",
    "<br>\n",
    "<br>\n",
    "<br>\n",
    "<br>\n",
    "<br>\n",
    "<br>\n",
    "<br>\n",
    "<br>\n",
    "<br>\n",
    "<br>\n",
    "\n",
    "## Solution to exercise 2 - Validate input"
   ]
  },
  {
   "cell_type": "code",
   "execution_count": null,
   "id": "7ec9e179-3d95-440c-97ef-07bd48b20e23",
   "metadata": {},
   "outputs": [],
   "source": [
    "while True:\n",
    "    try:\n",
    "        parameter = float( input() )**0.5\n",
    "    except ValueError:\n",
    "        print('ERROR: Input must be a number.')\n",
    "    else:\n",
    "        print( f'Square root: {parameter:.3}' )\n"
   ]
  },
  {
   "cell_type": "markdown",
   "id": "827c45cb-6aff-4713-a83f-ca55c203c5d5",
   "metadata": {},
   "source": [
    "To interrupt the program and give a meaningful error message, use raise Exception()\n"
   ]
  },
  {
   "cell_type": "code",
   "execution_count": null,
   "id": "342f53d4-4050-45d6-9d31-b119afb57512",
   "metadata": {},
   "outputs": [],
   "source": [
    "while True:\n",
    "    uin = input()\n",
    "    try:\n",
    "        parameter = float( uin )**0.5\n",
    "    except ValueError:\n",
    "        raise Exception('ERROR: Input must be an integer')\n",
    "    else:   \n",
    "        print(f'parameter: {parameter:.3f}')"
   ]
  },
  {
   "cell_type": "markdown",
   "id": "f5be8444-a99a-490c-9e89-3adaa7404d06",
   "metadata": {},
   "source": [
    "<br>\n",
    "<br>\n",
    "<br>\n",
    "<br>\n",
    "<br>\n",
    "<br>\n",
    "<br>\n",
    "<br>\n",
    "<br>\n",
    "<br>\n",
    "<br>\n",
    "<br>\n",
    "\n",
    "## Solution to exercise 3 - Calculate average for sequence of observations"
   ]
  },
  {
   "cell_type": "code",
   "execution_count": null,
   "id": "597b27bc-3553-4595-83f6-5051ae708790",
   "metadata": {},
   "outputs": [],
   "source": [
    "import random \n",
    "\n",
    "# your code\n",
    "mu = 2.0\n",
    "sigma = 0.3\n",
    "minsamples = 20  # only calc average for more than minsamples\n",
    "maxn = 100       # number of observations\n",
    "\n",
    "\n",
    "print(f'obs\\tmean') # print column names\n",
    "for n in range(1, maxn+1):\n",
    "    obs = random.normalvariate(mu, sigma)\n",
    "    if n==1:\n",
    "        avgn = obs\n",
    "    else:\n",
    "        avgn = (avgnm1 * (n-1) + obs) / n\n",
    "    avgnm1=avgn\n",
    "    \n",
    "    if n <= minsamples:\n",
    "        print( f'{obs:.4f}\\t---' )\n",
    "    else:\n",
    "        print( f'{obs:.4f}\\t{avgn:.4f}' )\n",
    "\n",
    "        "
   ]
  },
  {
   "cell_type": "code",
   "execution_count": null,
   "id": "c78430ff-65a5-410c-bf42-37157489fabf",
   "metadata": {},
   "outputs": [],
   "source": []
  }
 ],
 "metadata": {
  "kernelspec": {
   "display_name": "Python 3 (ipykernel)",
   "language": "python",
   "name": "python3"
  },
  "language_info": {
   "codemirror_mode": {
    "name": "ipython",
    "version": 3
   },
   "file_extension": ".py",
   "mimetype": "text/x-python",
   "name": "python",
   "nbconvert_exporter": "python",
   "pygments_lexer": "ipython3",
   "version": "3.8.13"
  }
 },
 "nbformat": 4,
 "nbformat_minor": 5
}
