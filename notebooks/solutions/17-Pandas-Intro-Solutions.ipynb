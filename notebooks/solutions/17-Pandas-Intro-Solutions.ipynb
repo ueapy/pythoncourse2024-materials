{
 "cells": [
  {
   "cell_type": "markdown",
   "metadata": {},
   "source": [
    "# Pandas Solutions"
   ]
  },
  {
   "cell_type": "code",
   "execution_count": 7,
   "metadata": {},
   "outputs": [
    {
     "data": {
      "text/html": [
       "<div>\n",
       "<style scoped>\n",
       "    .dataframe tbody tr th:only-of-type {\n",
       "        vertical-align: middle;\n",
       "    }\n",
       "\n",
       "    .dataframe tbody tr th {\n",
       "        vertical-align: top;\n",
       "    }\n",
       "\n",
       "    .dataframe thead th {\n",
       "        text-align: right;\n",
       "    }\n",
       "</style>\n",
       "<table border=\"1\" class=\"dataframe\">\n",
       "  <thead>\n",
       "    <tr style=\"text-align: right;\">\n",
       "      <th></th>\n",
       "      <th>Time</th>\n",
       "      <th>O3</th>\n",
       "      <th>O3_status</th>\n",
       "      <th>NOx</th>\n",
       "      <th>NOx_status</th>\n",
       "      <th>CO</th>\n",
       "      <th>CO_status</th>\n",
       "      <th>PM10</th>\n",
       "      <th>PM10_status</th>\n",
       "    </tr>\n",
       "  </thead>\n",
       "  <tbody>\n",
       "    <tr>\n",
       "      <th>0</th>\n",
       "      <td>2015-01-01 01:00:00</td>\n",
       "      <td>13.70381</td>\n",
       "      <td>V ugm-3</td>\n",
       "      <td>177.01526</td>\n",
       "      <td>V ugm-3</td>\n",
       "      <td>0.375260</td>\n",
       "      <td>V mgm-3</td>\n",
       "      <td>39.3</td>\n",
       "      <td>V ugm-3 (TEOM FDMS)</td>\n",
       "    </tr>\n",
       "    <tr>\n",
       "      <th>1</th>\n",
       "      <td>2015-01-01 02:00:00</td>\n",
       "      <td>8.58151</td>\n",
       "      <td>V ugm-3</td>\n",
       "      <td>294.46380</td>\n",
       "      <td>V ugm-3</td>\n",
       "      <td>0.542517</td>\n",
       "      <td>V mgm-3</td>\n",
       "      <td>41.1</td>\n",
       "      <td>V ugm-3 (TEOM FDMS)</td>\n",
       "    </tr>\n",
       "    <tr>\n",
       "      <th>2</th>\n",
       "      <td>2015-01-01 03:00:00</td>\n",
       "      <td>9.77893</td>\n",
       "      <td>V ugm-3</td>\n",
       "      <td>209.99537</td>\n",
       "      <td>V ugm-3</td>\n",
       "      <td>0.406306</td>\n",
       "      <td>V mgm-3</td>\n",
       "      <td>35.1</td>\n",
       "      <td>V ugm-3 (TEOM FDMS)</td>\n",
       "    </tr>\n",
       "    <tr>\n",
       "      <th>3</th>\n",
       "      <td>2015-01-01 04:00:00</td>\n",
       "      <td>13.96990</td>\n",
       "      <td>V ugm-3</td>\n",
       "      <td>160.89863</td>\n",
       "      <td>V ugm-3</td>\n",
       "      <td>0.281445</td>\n",
       "      <td>V mgm-3</td>\n",
       "      <td>27.6</td>\n",
       "      <td>V ugm-3 (TEOM FDMS)</td>\n",
       "    </tr>\n",
       "  </tbody>\n",
       "</table>\n",
       "</div>"
      ],
      "text/plain": [
       "                 Time        O3 O3_status        NOx NOx_status        CO  \\\n",
       "0 2015-01-01 01:00:00  13.70381   V ugm-3  177.01526    V ugm-3  0.375260   \n",
       "1 2015-01-01 02:00:00   8.58151   V ugm-3  294.46380    V ugm-3  0.542517   \n",
       "2 2015-01-01 03:00:00   9.77893   V ugm-3  209.99537    V ugm-3  0.406306   \n",
       "3 2015-01-01 04:00:00  13.96990   V ugm-3  160.89863    V ugm-3  0.281445   \n",
       "\n",
       "  CO_status  PM10          PM10_status  \n",
       "0   V mgm-3  39.3  V ugm-3 (TEOM FDMS)  \n",
       "1   V mgm-3  41.1  V ugm-3 (TEOM FDMS)  \n",
       "2   V mgm-3  35.1  V ugm-3 (TEOM FDMS)  \n",
       "3   V mgm-3  27.6  V ugm-3 (TEOM FDMS)  "
      ]
     },
     "execution_count": 7,
     "metadata": {},
     "output_type": "execute_result"
    }
   ],
   "source": [
    "import datetime\n",
    "import pandas as pd\n",
    "import matplotlib.pyplot as plt\n",
    "import numpy as np\n",
    "import os\n",
    "import sys\n",
    "import warnings\n",
    "warnings.filterwarnings('ignore')\n",
    "\n",
    "fname = '../../data/air_quality_hourly_london_marylebone.csv'\n",
    "\n",
    "def dateparse(date_str, time_str):\n",
    "    if time_str == '24:00:00':\n",
    "        time_str = '00:00:00'\n",
    "        date = pd.datetime.strptime(date_str + time_str, '%Y-%m-%d%H:%M:%S')\n",
    "        date = date + datetime.timedelta(days=1)\n",
    "    else:\n",
    "        date = pd.datetime.strptime(date_str + time_str, '%Y-%m-%d%H:%M:%S')\n",
    "    return date \n",
    "    #pd.datetime.strptime(date_str + time_str, '%Y-%m-%d%H:%M:%S')\n",
    "\n",
    "air_quality = pd.read_csv(fname, header=4, skipfooter=4, na_values='No data', engine='python',\n",
    "              parse_dates={'Time': [0, 1]}, date_parser=dateparse) \n",
    "\n",
    "\n",
    "air_quality.columns = ['Time', 'O3', 'O3_status', 'NOx', 'NOx_status',\n",
    "                       'CO', 'CO_status', 'PM10', 'PM10_status', 'Co', 'Co_status']\n",
    "\n",
    "air_quality.drop('Co', 1, inplace=True)\n",
    "air_quality.drop('Co_status', 1, inplace=True)\n",
    "\n",
    "air_quality.head(4)"
   ]
  },
  {
   "cell_type": "markdown",
   "metadata": {},
   "source": [
    "Q: how to list data entries with negative O3?"
   ]
  },
  {
   "cell_type": "code",
   "execution_count": 8,
   "metadata": {},
   "outputs": [
    {
     "data": {
      "text/plain": [
       "4100   -0.54882\n",
       "4101   -0.14968\n",
       "Name: O3, dtype: float64"
      ]
     },
     "execution_count": 8,
     "metadata": {},
     "output_type": "execute_result"
    }
   ],
   "source": [
    "air_quality.O3[air_quality.O3.values < 0] "
   ]
  },
  {
   "cell_type": "markdown",
   "metadata": {},
   "source": [
    "Replace negative ozone values with Nan"
   ]
  },
  {
   "cell_type": "code",
   "execution_count": 10,
   "metadata": {},
   "outputs": [],
   "source": [
    "air_quality.O3[air_quality.O3.values < 0] = np.nan"
   ]
  },
  {
   "cell_type": "markdown",
   "metadata": {},
   "source": [
    "Saving data to csv:"
   ]
  },
  {
   "cell_type": "code",
   "execution_count": 12,
   "metadata": {},
   "outputs": [],
   "source": [
    "# air_quality.to_csv(\"bla-blah.csv\", index=False)"
   ]
  },
  {
   "cell_type": "markdown",
   "metadata": {},
   "source": [
    "# OLR and SOI data\n",
    "First we need to import pandas and load the datafiles we want to use for the exercise."
   ]
  },
  {
   "cell_type": "code",
   "execution_count": 13,
   "metadata": {},
   "outputs": [],
   "source": [
    "import pandas as pd\n",
    "import matplotlib.pyplot as plt"
   ]
  },
  {
   "cell_type": "code",
   "execution_count": 14,
   "metadata": {},
   "outputs": [],
   "source": [
    "soi_df = pd.read_csv('../../data/soi.csv', skiprows=1, parse_dates=[0], index_col=0, na_values=-999.9,\n",
    "                     date_parser=lambda x: pd.datetime.strptime(x, '%Y%m'))\n",
    "olr_df = pd.read_csv('../../data/olr.csv', skiprows=1, parse_dates=[0], index_col=0, na_values=-999.9,\n",
    "                     date_parser=lambda x: pd.datetime.strptime(x, '%Y%m'))\n"
   ]
  },
  {
   "cell_type": "markdown",
   "metadata": {},
   "source": [
    "Now that we have the data I will combine them into a single dataframe, as it was done in the Pandas-Intro notebook."
   ]
  },
  {
   "cell_type": "code",
   "execution_count": 15,
   "metadata": {},
   "outputs": [
    {
     "data": {
      "text/html": [
       "<div>\n",
       "<style scoped>\n",
       "    .dataframe tbody tr th:only-of-type {\n",
       "        vertical-align: middle;\n",
       "    }\n",
       "\n",
       "    .dataframe tbody tr th {\n",
       "        vertical-align: top;\n",
       "    }\n",
       "\n",
       "    .dataframe thead th {\n",
       "        text-align: right;\n",
       "    }\n",
       "</style>\n",
       "<table border=\"1\" class=\"dataframe\">\n",
       "  <thead>\n",
       "    <tr style=\"text-align: right;\">\n",
       "      <th></th>\n",
       "      <th>OLR</th>\n",
       "      <th>SOI</th>\n",
       "    </tr>\n",
       "    <tr>\n",
       "      <th>Date</th>\n",
       "      <th></th>\n",
       "      <th></th>\n",
       "    </tr>\n",
       "  </thead>\n",
       "  <tbody>\n",
       "    <tr>\n",
       "      <th>1951-01-01</th>\n",
       "      <td>NaN</td>\n",
       "      <td>1.5</td>\n",
       "    </tr>\n",
       "    <tr>\n",
       "      <th>1951-02-01</th>\n",
       "      <td>NaN</td>\n",
       "      <td>0.9</td>\n",
       "    </tr>\n",
       "    <tr>\n",
       "      <th>1951-03-01</th>\n",
       "      <td>NaN</td>\n",
       "      <td>-0.1</td>\n",
       "    </tr>\n",
       "    <tr>\n",
       "      <th>1951-04-01</th>\n",
       "      <td>NaN</td>\n",
       "      <td>-0.3</td>\n",
       "    </tr>\n",
       "    <tr>\n",
       "      <th>1951-05-01</th>\n",
       "      <td>NaN</td>\n",
       "      <td>-0.7</td>\n",
       "    </tr>\n",
       "    <tr>\n",
       "      <th>...</th>\n",
       "      <td>...</td>\n",
       "      <td>...</td>\n",
       "    </tr>\n",
       "    <tr>\n",
       "      <th>2016-06-01</th>\n",
       "      <td>0.1</td>\n",
       "      <td>0.6</td>\n",
       "    </tr>\n",
       "    <tr>\n",
       "      <th>2016-07-01</th>\n",
       "      <td>0.5</td>\n",
       "      <td>0.4</td>\n",
       "    </tr>\n",
       "    <tr>\n",
       "      <th>2016-08-01</th>\n",
       "      <td>0.8</td>\n",
       "      <td>0.7</td>\n",
       "    </tr>\n",
       "    <tr>\n",
       "      <th>2016-09-01</th>\n",
       "      <td>0.9</td>\n",
       "      <td>1.2</td>\n",
       "    </tr>\n",
       "    <tr>\n",
       "      <th>2016-10-01</th>\n",
       "      <td>1.0</td>\n",
       "      <td>-0.3</td>\n",
       "    </tr>\n",
       "  </tbody>\n",
       "</table>\n",
       "<p>790 rows × 2 columns</p>\n",
       "</div>"
      ],
      "text/plain": [
       "            OLR  SOI\n",
       "Date                \n",
       "1951-01-01  NaN  1.5\n",
       "1951-02-01  NaN  0.9\n",
       "1951-03-01  NaN -0.1\n",
       "1951-04-01  NaN -0.3\n",
       "1951-05-01  NaN -0.7\n",
       "...         ...  ...\n",
       "2016-06-01  0.1  0.6\n",
       "2016-07-01  0.5  0.4\n",
       "2016-08-01  0.8  0.7\n",
       "2016-09-01  0.9  1.2\n",
       "2016-10-01  1.0 -0.3\n",
       "\n",
       "[790 rows x 2 columns]"
      ]
     },
     "execution_count": 15,
     "metadata": {},
     "output_type": "execute_result"
    }
   ],
   "source": [
    "df = pd.DataFrame({'OLR': olr_df.Value,\n",
    "                   'SOI': soi_df.Value})\n",
    "df"
   ]
  },
  {
   "cell_type": "markdown",
   "metadata": {},
   "source": [
    "## Exercise: create a scatter plot"
   ]
  },
  {
   "cell_type": "markdown",
   "metadata": {},
   "source": [
    "* You can use `df.plot` function with the appropriate keywords\n",
    "* What happens if you use \"c=\" keyword?\n",
    "* Pass another parameter: `edgecolors='none'`"
   ]
  },
  {
   "cell_type": "markdown",
   "metadata": {},
   "source": [
    "There are two ways, which I will demonstrate:"
   ]
  },
  {
   "cell_type": "markdown",
   "metadata": {},
   "source": [
    "### First method to create a scatter plot"
   ]
  },
  {
   "cell_type": "code",
   "execution_count": 16,
   "metadata": {},
   "outputs": [
    {
     "data": {
      "text/plain": [
       "<AxesSubplot:xlabel='OLR', ylabel='SOI'>"
      ]
     },
     "execution_count": 16,
     "metadata": {},
     "output_type": "execute_result"
    },
    {
     "data": {
      "image/png": "[encoded data removed]",
      "text/plain": [
       "<Figure size 432x288 with 1 Axes>"
      ]
     },
     "metadata": {
      "needs_background": "light"
     },
     "output_type": "display_data"
    }
   ],
   "source": [
    "# your code here\n",
    "# the first way is to define the scatter plot with an argument in .plot()\n",
    "df.plot(kind = 'scatter', x = 'OLR', y = 'SOI')"
   ]
  },
  {
   "cell_type": "markdown",
   "metadata": {},
   "source": [
    "Note that I had to specify with further arguments which coloumn of the dataframe is the x-axis, and which coloumn is the y-axis.\n",
    "\n",
    "We can personalise the scatter plot even further using two of the colour arguments: 'c' and 'edgecolor':"
   ]
  },
  {
   "cell_type": "code",
   "execution_count": 17,
   "metadata": {},
   "outputs": [
    {
     "data": {
      "text/plain": [
       "<AxesSubplot:xlabel='OLR', ylabel='SOI'>"
      ]
     },
     "execution_count": 17,
     "metadata": {},
     "output_type": "execute_result"
    },
    {
     "data": {
      "image/png": "[encoded data removed]",
      "text/plain": [
       "<Figure size 432x288 with 1 Axes>"
      ]
     },
     "metadata": {
      "needs_background": "light"
     },
     "output_type": "display_data"
    }
   ],
   "source": [
    "df.plot(kind = 'scatter', x = 'OLR', y = 'SOI', c = 'g', edgecolor = 'k')"
   ]
  },
  {
   "cell_type": "markdown",
   "metadata": {},
   "source": [
    "As discussed in the teaching notebook, c can take on a range of different kinds of values, for example simple letters or words denoting a colour (e.g. 'g' or 'green') or a third variable with a colourmap (e.g. time). edgecolor defines the color of the edges of the data points, here we chose black, also given by the value 'k'."
   ]
  },
  {
   "cell_type": "markdown",
   "metadata": {},
   "source": [
    "### Second method to create a scatter plot"
   ]
  },
  {
   "cell_type": "markdown",
   "metadata": {},
   "source": [
    "If you prefer to use methods instead of lots of arguments, this works also:"
   ]
  },
  {
   "cell_type": "code",
   "execution_count": 19,
   "metadata": {},
   "outputs": [
    {
     "data": {
      "text/html": [
       "<div>\n",
       "<style scoped>\n",
       "    .dataframe tbody tr th:only-of-type {\n",
       "        vertical-align: middle;\n",
       "    }\n",
       "\n",
       "    .dataframe tbody tr th {\n",
       "        vertical-align: top;\n",
       "    }\n",
       "\n",
       "    .dataframe thead th {\n",
       "        text-align: right;\n",
       "    }\n",
       "</style>\n",
       "<table border=\"1\" class=\"dataframe\">\n",
       "  <thead>\n",
       "    <tr style=\"text-align: right;\">\n",
       "      <th></th>\n",
       "      <th>OLR</th>\n",
       "      <th>SOI</th>\n",
       "    </tr>\n",
       "    <tr>\n",
       "      <th>Date</th>\n",
       "      <th></th>\n",
       "      <th></th>\n",
       "    </tr>\n",
       "  </thead>\n",
       "  <tbody>\n",
       "    <tr>\n",
       "      <th>1951-01-01</th>\n",
       "      <td>NaN</td>\n",
       "      <td>1.5</td>\n",
       "    </tr>\n",
       "    <tr>\n",
       "      <th>1951-02-01</th>\n",
       "      <td>NaN</td>\n",
       "      <td>0.9</td>\n",
       "    </tr>\n",
       "    <tr>\n",
       "      <th>1951-03-01</th>\n",
       "      <td>NaN</td>\n",
       "      <td>-0.1</td>\n",
       "    </tr>\n",
       "    <tr>\n",
       "      <th>1951-04-01</th>\n",
       "      <td>NaN</td>\n",
       "      <td>-0.3</td>\n",
       "    </tr>\n",
       "    <tr>\n",
       "      <th>1951-05-01</th>\n",
       "      <td>NaN</td>\n",
       "      <td>-0.7</td>\n",
       "    </tr>\n",
       "    <tr>\n",
       "      <th>...</th>\n",
       "      <td>...</td>\n",
       "      <td>...</td>\n",
       "    </tr>\n",
       "    <tr>\n",
       "      <th>2016-06-01</th>\n",
       "      <td>0.1</td>\n",
       "      <td>0.6</td>\n",
       "    </tr>\n",
       "    <tr>\n",
       "      <th>2016-07-01</th>\n",
       "      <td>0.5</td>\n",
       "      <td>0.4</td>\n",
       "    </tr>\n",
       "    <tr>\n",
       "      <th>2016-08-01</th>\n",
       "      <td>0.8</td>\n",
       "      <td>0.7</td>\n",
       "    </tr>\n",
       "    <tr>\n",
       "      <th>2016-09-01</th>\n",
       "      <td>0.9</td>\n",
       "      <td>1.2</td>\n",
       "    </tr>\n",
       "    <tr>\n",
       "      <th>2016-10-01</th>\n",
       "      <td>1.0</td>\n",
       "      <td>-0.3</td>\n",
       "    </tr>\n",
       "  </tbody>\n",
       "</table>\n",
       "<p>790 rows × 2 columns</p>\n",
       "</div>"
      ],
      "text/plain": [
       "            OLR  SOI\n",
       "Date                \n",
       "1951-01-01  NaN  1.5\n",
       "1951-02-01  NaN  0.9\n",
       "1951-03-01  NaN -0.1\n",
       "1951-04-01  NaN -0.3\n",
       "1951-05-01  NaN -0.7\n",
       "...         ...  ...\n",
       "2016-06-01  0.1  0.6\n",
       "2016-07-01  0.5  0.4\n",
       "2016-08-01  0.8  0.7\n",
       "2016-09-01  0.9  1.2\n",
       "2016-10-01  1.0 -0.3\n",
       "\n",
       "[790 rows x 2 columns]"
      ]
     },
     "execution_count": 19,
     "metadata": {},
     "output_type": "execute_result"
    }
   ],
   "source": [
    "df"
   ]
  },
  {
   "cell_type": "code",
   "execution_count": 32,
   "metadata": {},
   "outputs": [
    {
     "data": {
      "text/plain": [
       "<AxesSubplot:xlabel='OLR', ylabel='SOI'>"
      ]
     },
     "execution_count": 32,
     "metadata": {},
     "output_type": "execute_result"
    },
    {
     "data": {
      "image/png": "[encoded data removed]",
      "text/plain": [
       "<Figure size 432x288 with 1 Axes>"
      ]
     },
     "metadata": {
      "needs_background": "light"
     },
     "output_type": "display_data"
    }
   ],
   "source": [
    "df.plot.scatter(x='OLR', y='SOI', c='magenta')"
   ]
  },
  {
   "cell_type": "code",
   "execution_count": 36,
   "metadata": {},
   "outputs": [
    {
     "data": {
      "text/plain": [
       "<matplotlib.colorbar.Colorbar at 0x7fa4cdab1ac0>"
      ]
     },
     "execution_count": 36,
     "metadata": {},
     "output_type": "execute_result"
    },
    {
     "data": {
      "image/png": "[encoded data removed]",
      "text/plain": [
       "<Figure size 432x288 with 2 Axes>"
      ]
     },
     "metadata": {
      "needs_background": "light"
     },
     "output_type": "display_data"
    }
   ],
   "source": [
    "import matplotlib.dates as mdates\n",
    "\n",
    "mdt = mdates.date2num(df.index)\n",
    "\n",
    "df['mpl_date'] = mdt\n",
    "\n",
    "ax = df.plot(kind='scatter', x='OLR', y='SOI', c='mpl_date',\n",
    "             colormap='viridis', colorbar=False, edgecolors='none')\n",
    "plt.colorbar(ax.collections[0], ticks=mdates.YearLocator(5), \n",
    "             format=mdates.DateFormatter('%Y'))"
   ]
  },
  {
   "cell_type": "markdown",
   "metadata": {},
   "source": [
    "## Exercise: Rolling Function"
   ]
  },
  {
   "cell_type": "markdown",
   "metadata": {},
   "source": [
    "**1. Subset data**"
   ]
  },
  {
   "cell_type": "markdown",
   "metadata": {},
   "source": [
    "* Start by subsetting the SOI `DataFrame`\n",
    "* Use either numerical indices, or, even better, datetime indices"
   ]
  },
  {
   "cell_type": "markdown",
   "metadata": {},
   "source": [
    "Now to create the subset: say I want to specifically look at the SOI data over the decade 1975-1985:"
   ]
  },
  {
   "cell_type": "code",
   "execution_count": 37,
   "metadata": {},
   "outputs": [
    {
     "data": {
      "text/plain": [
       "Date\n",
       "1975-01-01   -0.5\n",
       "1975-02-01    0.8\n",
       "1975-03-01    1.6\n",
       "1975-04-01    1.2\n",
       "1975-05-01    0.6\n",
       "             ... \n",
       "1984-09-01    0.1\n",
       "1984-10-01   -0.3\n",
       "1984-11-01    0.3\n",
       "1984-12-01   -0.1\n",
       "1985-01-01   -0.3\n",
       "Freq: MS, Name: SOI, Length: 121, dtype: float64"
      ]
     },
     "execution_count": 37,
     "metadata": {},
     "output_type": "execute_result"
    }
   ],
   "source": [
    "# your code here\n",
    "subset = df['SOI']['1975-01-01':'1985-01-01'] # I selected SOI specifically and used strings to denote the date range in the index.\n",
    "subset"
   ]
  },
  {
   "cell_type": "code",
   "execution_count": 38,
   "metadata": {},
   "outputs": [
    {
     "data": {
      "text/plain": [
       "count    121.000000\n",
       "mean      -0.024793\n",
       "std        1.044612\n",
       "min       -3.600000\n",
       "25%       -0.400000\n",
       "50%        0.000000\n",
       "75%        0.600000\n",
       "max        2.100000\n",
       "Name: SOI, dtype: float64"
      ]
     },
     "execution_count": 38,
     "metadata": {},
     "output_type": "execute_result"
    }
   ],
   "source": [
    "# let's get an overview of the decade \n",
    "subset.describe()"
   ]
  },
  {
   "cell_type": "markdown",
   "metadata": {},
   "source": [
    "**2. Plot the subset data**"
   ]
  },
  {
   "cell_type": "markdown",
   "metadata": {},
   "source": [
    "* You can create figure and axis using `matplotlib.pyplot`\n",
    "* Or just use the `plot()` method of pandas `DataFrame`"
   ]
  },
  {
   "cell_type": "code",
   "execution_count": 39,
   "metadata": {},
   "outputs": [
    {
     "data": {
      "text/plain": [
       "<AxesSubplot:xlabel='Date'>"
      ]
     },
     "execution_count": 39,
     "metadata": {},
     "output_type": "execute_result"
    },
    {
     "data": {
      "image/png": "[encoded data removed]",
      "text/plain": [
       "<Figure size 432x288 with 1 Axes>"
      ]
     },
     "metadata": {
      "needs_background": "light"
     },
     "output_type": "display_data"
    }
   ],
   "source": [
    "# your code here\n",
    "subset.plot()"
   ]
  },
  {
   "cell_type": "markdown",
   "metadata": {},
   "source": [
    "**3. Explore what `rolling()` method is**"
   ]
  },
  {
   "cell_type": "markdown",
   "metadata": {},
   "source": [
    "* What does this method return?"
   ]
  },
  {
   "cell_type": "markdown",
   "metadata": {},
   "source": [
    "We can do a variety of things with the rolling() function. The rolling() method itself will only return a Rolling object, we have to use an additional method to denote what computation we want:"
   ]
  },
  {
   "cell_type": "code",
   "execution_count": 40,
   "metadata": {},
   "outputs": [
    {
     "data": {
      "text/plain": [
       "Date\n",
       "1975-01-01         NaN\n",
       "1975-02-01         NaN\n",
       "1975-03-01         NaN\n",
       "1975-04-01         NaN\n",
       "1975-05-01         NaN\n",
       "                ...   \n",
       "1984-09-01    0.175000\n",
       "1984-10-01    0.116667\n",
       "1984-11-01    0.150000\n",
       "1984-12-01    0.141667\n",
       "1985-01-01    0.100000\n",
       "Freq: MS, Name: SOI, Length: 121, dtype: float64"
      ]
     },
     "execution_count": 40,
     "metadata": {},
     "output_type": "execute_result"
    }
   ],
   "source": [
    "roll_mean = subset.rolling(12).mean() # here I want to compute a rolling mean over a 12 point rolling window\n",
    "# note that as the data points are recorded monthly, our window represents a year.\n",
    "roll_mean"
   ]
  },
  {
   "cell_type": "markdown",
   "metadata": {},
   "source": [
    "**4. Plot the original series and the smoothed series**"
   ]
  },
  {
   "cell_type": "markdown",
   "metadata": {},
   "source": [
    "Now we can plot the rolled mean over the original subset:"
   ]
  },
  {
   "cell_type": "code",
   "execution_count": 41,
   "metadata": {},
   "outputs": [
    {
     "data": {
      "text/plain": [
       "<matplotlib.legend.Legend at 0x7fa4cda21fd0>"
      ]
     },
     "execution_count": 41,
     "metadata": {},
     "output_type": "execute_result"
    },
    {
     "data": {
      "image/png": "[encoded data removed]",
      "text/plain": [
       "<Figure size 432x288 with 1 Axes>"
      ]
     },
     "metadata": {
      "needs_background": "light"
     },
     "output_type": "display_data"
    }
   ],
   "source": [
    "# your code here\n",
    "subset.plot(label = 'Monthly SOI')\n",
    "roll_mean.plot(label = '12 month-rolling mean SOI')\n",
    "plt.title('SOI over 10 year period')\n",
    "plt.legend()"
   ]
  }
 ],
 "metadata": {
  "kernelspec": {
   "display_name": "Python 3",
   "language": "python",
   "name": "python3"
  },
  "language_info": {
   "codemirror_mode": {
    "name": "ipython",
    "version": 3
   },
   "file_extension": ".py",
   "mimetype": "text/x-python",
   "name": "python",
   "nbconvert_exporter": "python",
   "pygments_lexer": "ipython3",
   "version": "3.8.6"
  }
 },
 "nbformat": 4,
 "nbformat_minor": 4
}
