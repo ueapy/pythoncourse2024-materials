{
 "cells": [
  {
   "cell_type": "markdown",
   "metadata": {},
   "source": [
    "# Guided Practice"
   ]
  },
  {
   "cell_type": "markdown",
   "metadata": {},
   "source": [
    "Now we have some time fo you to try out Python basics that you've just learned."
   ]
  },
  {
   "cell_type": "markdown",
   "metadata": {},
   "source": [
    "## 1. Operating and testing scalar types int and float "
   ]
  },
  {
   "cell_type": "markdown",
   "metadata": {},
   "source": [
    "Pizza party!\n",
    "\n",
    "* Given an number of guests and pizza fraction required per guest\n",
    "* Calculate how many pizzas to order\n",
    "* Calculate actual pizza fraction per person"
   ]
  },
  {
   "cell_type": "code",
   "execution_count": 1,
   "metadata": {},
   "outputs": [],
   "source": [
    "from math import ceil  # ceil() rounds up to nearest integer\n",
    "\n",
    "num_guests = 3\n",
    "per_person = 1/3\n",
    "\n",
    "#num_pizzas = \n",
    "#remember to include the person making the order as well!\n",
    "\n",
    "#print('Order',num_pizzas,'pizzas')\n",
    "#print('Actual pizzas per person', num_pizzas/(num_guests+1))\n"
   ]
  },
  {
   "cell_type": "markdown",
   "metadata": {},
   "source": [
    "Test Pythagoras Theorem for triangles with sides a, b and c \n",
    "\n",
    "> In a right angled triangle:  \n",
    "> the square of the hypotenuse is equal to  \n",
    "> the sum of the squares of the other two sides"
   ]
  },
  {
   "cell_type": "code",
   "execution_count": 5,
   "metadata": {},
   "outputs": [
    {
     "name": "stdout",
     "output_type": "stream",
     "text": [
      "He knew his stuff\n"
     ]
    }
   ],
   "source": [
    "from math import isclose \n",
    "\n",
    "a = 2\n",
    "b = 2\n",
    "c = 8**0.5\n",
    "\n",
    "# print('Was Pythagoras right?:', )\n",
    "\n",
    "if isclose( (a**2+b**2), c**2):\n",
    "    print('He knew his stuff')\n",
    "else:\n",
    "    print('I need to remeasure this triangle!')"
   ]
  },
  {
   "cell_type": "markdown",
   "metadata": {},
   "source": [
    "Now try your solution with the values of a, b and c in the next cell. You might need a different solution as hinted below."
   ]
  },
  {
   "cell_type": "code",
   "execution_count": 3,
   "metadata": {},
   "outputs": [],
   "source": [
    "from math import isclose\n",
    "\n",
    "a = 2\n",
    "b = 2\n",
    "c = 8**0.5  # this is the same as \n",
    "            # c = math.sqrt(8)\n",
    "\n",
    "# print('Was Pythagoras right?',  )"
   ]
  },
  {
   "cell_type": "markdown",
   "metadata": {},
   "source": [
    "## 2. Explore Booleans"
   ]
  },
  {
   "cell_type": "markdown",
   "metadata": {},
   "source": [
    "Booleans can also be constructed using the ``bool()`` object constructor: values of any other type can be converted to Boolean via predictable rules.\n",
    "For example, any numeric type is False if equal to zero, and True otherwise:"
   ]
  },
  {
   "cell_type": "code",
   "execution_count": 172,
   "metadata": {},
   "outputs": [
    {
     "data": {
      "text/plain": [
       "True"
      ]
     },
     "execution_count": 172,
     "metadata": {},
     "output_type": "execute_result"
    }
   ],
   "source": [
    "bool(1)"
   ]
  },
  {
   "cell_type": "code",
   "execution_count": 173,
   "metadata": {},
   "outputs": [
    {
     "data": {
      "text/plain": [
       "False"
      ]
     },
     "execution_count": 173,
     "metadata": {},
     "output_type": "execute_result"
    }
   ],
   "source": [
    "bool(0)"
   ]
  },
  {
   "cell_type": "markdown",
   "metadata": {},
   "source": [
    "The Boolean conversion of ``None`` is always False:"
   ]
  },
  {
   "cell_type": "code",
   "execution_count": 174,
   "metadata": {},
   "outputs": [
    {
     "data": {
      "text/plain": [
       "False"
      ]
     },
     "execution_count": 174,
     "metadata": {},
     "output_type": "execute_result"
    }
   ],
   "source": [
    "bool(None)"
   ]
  },
  {
   "cell_type": "markdown",
   "metadata": {},
   "source": [
    "For strings, ``bool(s)`` is False for empty strings and True otherwise:"
   ]
  },
  {
   "cell_type": "code",
   "execution_count": 175,
   "metadata": {},
   "outputs": [
    {
     "data": {
      "text/plain": [
       "False"
      ]
     },
     "execution_count": 175,
     "metadata": {},
     "output_type": "execute_result"
    }
   ],
   "source": [
    "bool(\"\")"
   ]
  },
  {
   "cell_type": "code",
   "execution_count": 176,
   "metadata": {},
   "outputs": [
    {
     "data": {
      "text/plain": [
       "True"
      ]
     },
     "execution_count": 176,
     "metadata": {},
     "output_type": "execute_result"
    }
   ],
   "source": [
    "bool(\"abc\")"
   ]
  },
  {
   "cell_type": "markdown",
   "metadata": {},
   "source": [
    "For sequences, which we'll see in the next section, the Boolean representation is False for empty sequences and True for any other sequences"
   ]
  },
  {
   "cell_type": "code",
   "execution_count": 177,
   "metadata": {},
   "outputs": [
    {
     "data": {
      "text/plain": [
       "True"
      ]
     },
     "execution_count": 177,
     "metadata": {},
     "output_type": "execute_result"
    }
   ],
   "source": [
    "bool([1, 2, 3])"
   ]
  },
  {
   "cell_type": "code",
   "execution_count": 178,
   "metadata": {},
   "outputs": [
    {
     "data": {
      "text/plain": [
       "False"
      ]
     },
     "execution_count": 178,
     "metadata": {},
     "output_type": "execute_result"
    }
   ],
   "source": [
    "bool([])"
   ]
  },
  {
   "cell_type": "markdown",
   "metadata": {},
   "source": [
    "## 3. Explore Strings"
   ]
  },
  {
   "cell_type": "markdown",
   "metadata": {},
   "source": [
    "* Copy a sentence from today's news headline\n",
    "* Return the number of words\n",
    "* Replace spaces by smilyes "
   ]
  },
  {
   "cell_type": "code",
   "execution_count": 8,
   "metadata": {},
   "outputs": [
    {
     "data": {
      "text/plain": [
       "'The:)deadly:)accordion:)wars:)of:)Lesotho'"
      ]
     },
     "execution_count": 8,
     "metadata": {},
     "output_type": "execute_result"
    }
   ],
   "source": [
    "news='The deadly accordion wars of Lesotho'\n",
    "len( news.split(' ') )\n",
    "\n",
    "':)'.join(news.split(' '))"
   ]
  },
  {
   "cell_type": "markdown",
   "metadata": {},
   "source": [
    "## 4. Explore Lists"
   ]
  },
  {
   "cell_type": "markdown",
   "metadata": {},
   "source": [
    "Store at least 3 different types of objects in a list."
   ]
  },
  {
   "cell_type": "code",
   "execution_count": 11,
   "metadata": {},
   "outputs": [
    {
     "name": "stdout",
     "output_type": "stream",
     "text": [
      "['123', 123, 123.00001] ['123', 123] ['123', 123]\n",
      "None\n"
     ]
    }
   ],
   "source": [
    "mylist = ['abc',123,123.00001]\n",
    "mylist[0] = '123'\n",
    "newlist = mylist[0:2]\n",
    "revlist = mylist[:-1]\n",
    "\n",
    "print(mylist, newlist , revlist)\n",
    "\n",
    "\n"
   ]
  },
  {
   "cell_type": "code",
   "execution_count": 12,
   "metadata": {},
   "outputs": [
    {
     "name": "stdout",
     "output_type": "stream",
     "text": [
      "None\n"
     ]
    }
   ],
   "source": [
    "# Can anyone say why this returns a \"None\" instead of a reversed list?\n",
    "\n",
    "mylist = ['abc',123,123.00001]\n",
    "revlist = mylist.reverse()\n",
    "print(revlist)"
   ]
  },
  {
   "cell_type": "markdown",
   "metadata": {},
   "source": [
    "Now,\n",
    "* append one element\n",
    "* modify one element\n",
    "* create a new list with the first 2 elements of the previous list\n",
    "* create a new list that is the reverse order of the previous list\n"
   ]
  },
  {
   "cell_type": "code",
   "execution_count": null,
   "metadata": {},
   "outputs": [],
   "source": [
    "# Your solution"
   ]
  },
  {
   "cell_type": "markdown",
   "metadata": {},
   "source": [
    "### Sequence comprehensions \n",
    "\n",
    "Ex1:\n",
    "* Starting by creating a list of Olympic Games years starting in 1948\n",
    "* Create a list with the predicted Football world Cup years, which is held 2 years after each Olympic Games."
   ]
  },
  {
   "cell_type": "code",
   "execution_count": 15,
   "metadata": {},
   "outputs": [
    {
     "name": "stdout",
     "output_type": "stream",
     "text": [
      "Olympics [1948, 1952, 1956, 1960, 1964, 1968, 1972, 1976, 1980, 1984, 1988, 1992, 1996, 2000, 2004, 2008, 2012, 2016]\n",
      "World Cup [1950, 1954, 1958, 1962, 1966, 1970, 1974, 1978, 1982, 1986, 1990, 1994, 1998, 2002, 2006, 2010, 2014, 2018]\n"
     ]
    }
   ],
   "source": [
    "olympics = list( range(1948,2020,4 ) )\n",
    "print( 'Olympics', olympics)\n",
    "\n",
    "#worldcup = \n",
    "\n",
    "print('World Cup',[year+2 for year in olympics])"
   ]
  },
  {
   "cell_type": "markdown",
   "metadata": {},
   "source": [
    "Ex2:\n",
    "* Use the list below with countries names\n",
    "* Create a list where each country name is capitalised correctly. \n",
    "\n",
    "Suggestion, use str method capitalize()"
   ]
  },
  {
   "cell_type": "code",
   "execution_count": 23,
   "metadata": {},
   "outputs": [
    {
     "name": "stdout",
     "output_type": "stream",
     "text": [
      "['Paraguay', 'Uruguay', 'Spain', 'Chile', 'El Salvador']\n"
     ]
    }
   ],
   "source": [
    "# Simple Solution\n",
    "countries = ['paRaguay', 'uRUGUAY', 'SPAIN', 'chile', 'el Salvador']\n",
    "# your code below\n",
    "\n",
    "#print([country.capitalize() for country in countries])\n",
    "\n",
    "\n",
    "newnames = []\n",
    "for country in countries:\n",
    "    if len(country.split())>1:\n",
    "        newname = [word.capitalize() for word in country.split()]\n",
    "        newname = ' '.join(newname)\n",
    "    else:\n",
    "        newname = country.capitalize()\n",
    "    newnames.append(newname)\n",
    "print(newnames)"
   ]
  },
  {
   "cell_type": "markdown",
   "metadata": {},
   "source": [
    "Ex3: Dictionary comprehension\n",
    "\n",
    "* Use the dictionary below to create a list of dates that are in the XIX century (>1800).  \n",
    "\n",
    "Remember to use dictionary method `.values()` to access the years."
   ]
  },
  {
   "cell_type": "code",
   "execution_count": 27,
   "metadata": {},
   "outputs": [
    {
     "data": {
      "text/plain": [
       "[1805, 1813, 1806]"
      ]
     },
     "execution_count": 27,
     "metadata": {},
     "output_type": "execute_result"
    }
   ],
   "source": [
    "Battles= {'Austerlitz':1805,'Alkmaar':1799,'Arhem':1813, 'Arcole':1796,'Jena':1806}\n",
    "\n",
    "# your code below\n",
    "[year for year in Battles.values() if  1800 <year<1900] "
   ]
  },
  {
   "cell_type": "markdown",
   "metadata": {},
   "source": [
    "* Use the same dictionary to create a list of Battle names that are in the XIX century (>1800). \n",
    "\n",
    "Other dictionary methods are `.items()` and `.keys()`\n"
   ]
  },
  {
   "cell_type": "code",
   "execution_count": 29,
   "metadata": {},
   "outputs": [
    {
     "ename": "TypeError",
     "evalue": "'>' not supported between instances of 'dict_keys' and 'int'",
     "output_type": "error",
     "traceback": [
      "\u001b[1;31m---------------------------------------------------------------------------\u001b[0m",
      "\u001b[1;31mTypeError\u001b[0m                                 Traceback (most recent call last)",
      "Input \u001b[1;32mIn [29]\u001b[0m, in \u001b[0;36m<cell line: 2>\u001b[1;34m()\u001b[0m\n\u001b[0;32m      1\u001b[0m Battles\u001b[38;5;241m=\u001b[39m {\u001b[38;5;124m'\u001b[39m\u001b[38;5;124mAusterlitz\u001b[39m\u001b[38;5;124m'\u001b[39m:\u001b[38;5;241m1805\u001b[39m,\u001b[38;5;124m'\u001b[39m\u001b[38;5;124mAlkmaar\u001b[39m\u001b[38;5;124m'\u001b[39m:\u001b[38;5;241m1799\u001b[39m,\u001b[38;5;124m'\u001b[39m\u001b[38;5;124mArhem\u001b[39m\u001b[38;5;124m'\u001b[39m:\u001b[38;5;241m1813\u001b[39m, \u001b[38;5;124m'\u001b[39m\u001b[38;5;124mArcole\u001b[39m\u001b[38;5;124m'\u001b[39m:\u001b[38;5;241m1796\u001b[39m,\u001b[38;5;124m'\u001b[39m\u001b[38;5;124mJena\u001b[39m\u001b[38;5;124m'\u001b[39m:\u001b[38;5;241m1806\u001b[39m}\n\u001b[1;32m----> 2\u001b[0m [name \u001b[38;5;28;01mfor\u001b[39;00m name \u001b[38;5;129;01min\u001b[39;00m Battles \u001b[38;5;28;01mif\u001b[39;00m  Battles\u001b[38;5;241m.\u001b[39mkeys() \u001b[38;5;241m>\u001b[39m \u001b[38;5;241m1800\u001b[39m]\n",
      "Input \u001b[1;32mIn [29]\u001b[0m, in \u001b[0;36m<listcomp>\u001b[1;34m(.0)\u001b[0m\n\u001b[0;32m      1\u001b[0m Battles\u001b[38;5;241m=\u001b[39m {\u001b[38;5;124m'\u001b[39m\u001b[38;5;124mAusterlitz\u001b[39m\u001b[38;5;124m'\u001b[39m:\u001b[38;5;241m1805\u001b[39m,\u001b[38;5;124m'\u001b[39m\u001b[38;5;124mAlkmaar\u001b[39m\u001b[38;5;124m'\u001b[39m:\u001b[38;5;241m1799\u001b[39m,\u001b[38;5;124m'\u001b[39m\u001b[38;5;124mArhem\u001b[39m\u001b[38;5;124m'\u001b[39m:\u001b[38;5;241m1813\u001b[39m, \u001b[38;5;124m'\u001b[39m\u001b[38;5;124mArcole\u001b[39m\u001b[38;5;124m'\u001b[39m:\u001b[38;5;241m1796\u001b[39m,\u001b[38;5;124m'\u001b[39m\u001b[38;5;124mJena\u001b[39m\u001b[38;5;124m'\u001b[39m:\u001b[38;5;241m1806\u001b[39m}\n\u001b[1;32m----> 2\u001b[0m [name \u001b[38;5;28;01mfor\u001b[39;00m name \u001b[38;5;129;01min\u001b[39;00m Battles \u001b[38;5;28;01mif\u001b[39;00m  \u001b[43mBattles\u001b[49m\u001b[38;5;241;43m.\u001b[39;49m\u001b[43mkeys\u001b[49m\u001b[43m(\u001b[49m\u001b[43m)\u001b[49m\u001b[43m \u001b[49m\u001b[38;5;241;43m>\u001b[39;49m\u001b[43m \u001b[49m\u001b[38;5;241;43m1800\u001b[39;49m]\n",
      "\u001b[1;31mTypeError\u001b[0m: '>' not supported between instances of 'dict_keys' and 'int'"
     ]
    }
   ],
   "source": [
    "Battles= {'Austerlitz':1805,'Alkmaar':1799,'Arhem':1813, 'Arcole':1796,'Jena':1806}\n",
    "[name for name in Battles if  Battles. > 1800] "
   ]
  },
  {
   "cell_type": "markdown",
   "metadata": {},
   "source": [
    "## 5. Dictionary attributes"
   ]
  },
  {
   "cell_type": "code",
   "execution_count": 154,
   "metadata": {},
   "outputs": [
    {
     "data": {
      "text/plain": [
       "{'a': '123',\n",
       " 'say': 'hellozles',\n",
       " 'other_key': ['wow', 'a', 'list', '!'],\n",
       " 'and_another_key': 3.14}"
      ]
     },
     "execution_count": 154,
     "metadata": {},
     "output_type": "execute_result"
    }
   ],
   "source": [
    "# Remember dictionaries\n",
    "dict(a='123', say='hellozles', other_key=['wow', 'a', 'list', '!'], and_another_key=3.14)"
   ]
  },
  {
   "cell_type": "markdown",
   "metadata": {},
   "source": [
    "Store the following information in a dictionary:\n",
    "    pet's name, age, colour and weight"
   ]
  },
  {
   "cell_type": "code",
   "execution_count": 2,
   "metadata": {},
   "outputs": [],
   "source": [
    "# mypet = {'name':    }"
   ]
  },
  {
   "cell_type": "markdown",
   "metadata": {},
   "source": [
    "Modify one of the values and add a new attribute, species"
   ]
  },
  {
   "cell_type": "code",
   "execution_count": null,
   "metadata": {
    "scrolled": true
   },
   "outputs": [],
   "source": []
  }
 ],
 "metadata": {
  "anaconda-cloud": {},
  "kernelspec": {
   "display_name": "Python 3 (ipykernel)",
   "language": "python",
   "name": "python3"
  },
  "language_info": {
   "codemirror_mode": {
    "name": "ipython",
    "version": 3
   },
   "file_extension": ".py",
   "mimetype": "text/x-python",
   "name": "python",
   "nbconvert_exporter": "python",
   "pygments_lexer": "ipython3",
   "version": "3.8.13"
  }
 },
 "nbformat": 4,
 "nbformat_minor": 4
}
